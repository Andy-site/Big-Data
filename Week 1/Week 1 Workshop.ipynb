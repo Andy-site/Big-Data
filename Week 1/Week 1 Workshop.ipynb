{
  "nbformat": 4,
  "nbformat_minor": 0,
  "metadata": {
    "colab": {
      "provenance": []
    },
    "kernelspec": {
      "name": "python3",
      "display_name": "Python 3"
    },
    "language_info": {
      "name": "python"
    }
  },
  "cells": [
    {
      "cell_type": "markdown",
      "source": [
        "# Exercises\n",
        "\n",
        "Now that, you have known some basics of python, try to do the following exercises. These exercise questions are not limited to the functions that are given above. You have to think for the solutions and search for the functions that you need to use. In this way, you will learn a lot of operations of different data\n",
        "structures such as lists, dictionaries etc. This will aid you to be a better developer in python programming language as well as data analytic domain.\n",
        "\n",
        "## Exercise on Loops\n",
        "1. Display Fibonacci series up to 10 terms.\n",
        "\n"
      ],
      "metadata": {
        "id": "akV1E3dTve6b"
      }
    },
    {
      "cell_type": "code",
      "source": [
        "def Fibonacci(n):\n",
        "\n",
        "    # Check if input is 0 then it will\n",
        "    if n < 0:\n",
        "        print(\"Incorrect input\")\n",
        "\n",
        "    # Check if n is 0\n",
        "    elif n == 0:\n",
        "        return 0\n",
        "\n",
        "    # Check if n is 1,2\n",
        "    # it will return 1\n",
        "    elif n == 1 or n == 2:\n",
        "        return 1\n",
        "\n",
        "    else:\n",
        "        return Fibonacci(n-1) + Fibonacci(n-2)\n",
        "\n",
        "\n",
        "print(Fibonacci(10))"
      ],
      "metadata": {
        "colab": {
          "base_uri": "https://localhost:8080/"
        },
        "id": "wHWBkk8c_Vo5",
        "outputId": "380231df-0ea7-408d-a7a5-0c727480f4cf"
      },
      "execution_count": null,
      "outputs": [
        {
          "output_type": "stream",
          "name": "stdout",
          "text": [
            "55\n"
          ]
        }
      ]
    },
    {
      "cell_type": "markdown",
      "source": [
        "2. Find the factorial of a given number. Ask the user to provide the number.\n"
      ],
      "metadata": {
        "id": "0ZxJYdfx-8r7"
      }
    },
    {
      "cell_type": "code",
      "source": [
        "def fact(num):\n",
        "  for i in range(1, num):\n",
        "    num *= i\n",
        "  return num\n",
        "\n",
        "num = int(input(\"Enter the number: \"))\n",
        "print(fact(num))"
      ],
      "metadata": {
        "colab": {
          "base_uri": "https://localhost:8080/"
        },
        "id": "xEYh_bwiAXFq",
        "outputId": "1f6542cd-7328-42f6-b818-9d2a5fc6dc90"
      },
      "execution_count": null,
      "outputs": [
        {
          "output_type": "stream",
          "name": "stdout",
          "text": [
            "Enter the number: 5\n",
            "120\n"
          ]
        }
      ]
    },
    {
      "cell_type": "markdown",
      "source": [
        "3. Write a program to print a right angle triangle using the for loop.\n"
      ],
      "metadata": {
        "id": "GlMWewOW--aP"
      }
    },
    {
      "cell_type": "code",
      "source": [
        "def r_triangle(num):\n",
        "  for i in range(1, num+1):\n",
        "    print(\"*\" * i)\n",
        "\n",
        "num = int(input(\"Enter a number :\"))\n",
        "r_triangle(num)"
      ],
      "metadata": {
        "colab": {
          "base_uri": "https://localhost:8080/"
        },
        "id": "0nWgkKeIAwjq",
        "outputId": "ba68cc4e-9407-4e62-ac87-5c4cf3d7e3bb"
      },
      "execution_count": null,
      "outputs": [
        {
          "output_type": "stream",
          "name": "stdout",
          "text": [
            "Enter a number :5\n",
            "*\n",
            "**\n",
            "***\n",
            "****\n",
            "*****\n"
          ]
        }
      ]
    },
    {
      "cell_type": "markdown",
      "source": [
        "## Exercise on Functions\n",
        "1. Make a simple calculator that can add, subtract, multiply and divide two numbers using function.\n"
      ],
      "metadata": {
        "id": "NrBnJ2lg-q2j"
      }
    },
    {
      "cell_type": "code",
      "source": [
        "def add(num1, num2):\n",
        "  return num1 + num2\n",
        "\n",
        "def sub(num1, num2):\n",
        "  return num1 - num2\n",
        "\n",
        "def mul(num1, num2):\n",
        "  return num1 * num2\n",
        "\n",
        "def div(num1, num2):\n",
        "  return num1 / num2\n",
        "\n",
        "num1 = int(input(\"Enter the first number: \"))\n",
        "num2 = int(input(\"Enter the second number: \"))\n",
        "\n",
        "choice = int(input(\"Enter your choice: \\n1. Add\\n2. Subtract\\n3. Multiply\\n4. Divide\\n\"))\n",
        "\n",
        "if(choice == 1):\n",
        "  print(add(num1, num2))\n",
        "elif(choice == 2):\n",
        "  print(sub(num1, num2))\n",
        "elif(choice == 3):\n",
        "  print(mul(num1, num2))\n",
        "elif(choice == 4):\n",
        "  print(\"Answer: \",div(num1, num2))\n",
        "else:\n",
        "  print(\"Invalid choice\")"
      ],
      "metadata": {
        "colab": {
          "base_uri": "https://localhost:8080/"
        },
        "id": "WjHWIVuiBN8M",
        "outputId": "bacdddcd-6507-4656-e00e-7554b25ac94a"
      },
      "execution_count": null,
      "outputs": [
        {
          "output_type": "stream",
          "name": "stdout",
          "text": [
            "Enter the first number: 21\n",
            "Enter the second number: 3\n",
            "Enter your choice: \n",
            "1. Add\n",
            "2. Subtract\n",
            "3. Multiply\n",
            "4. Divide\n",
            "4\n",
            "Answer:  7.0\n"
          ]
        }
      ]
    },
    {
      "cell_type": "markdown",
      "source": [
        "\n",
        "## Exercise on List and Dictionaries\n",
        "1. Remove the first duplicate element of a list\n"
      ],
      "metadata": {
        "id": "HQGczloo-s9j"
      }
    },
    {
      "cell_type": "code",
      "source": [
        "def remove_first_duplicate(my_list):\n",
        "  seen = set()\n",
        "  result = []\n",
        "  for item in my_list:\n",
        "    if item in seen:\n",
        "      seen.remove(item)\n",
        "      continue\n",
        "    seen.add(item)\n",
        "    result.append(item)\n",
        "  return result\n",
        "\n",
        "\n",
        "my_list = [12, 12, 43, 65, 32, 32, 12]\n",
        "print(\"Original list = \", my_list)\n",
        "result = remove_first_duplicate(my_list)\n",
        "print(\"List after removing first duplicate element = \", result)"
      ],
      "metadata": {
        "colab": {
          "base_uri": "https://localhost:8080/"
        },
        "id": "DTzpPbrgBybQ",
        "outputId": "752ee29a-b361-434b-b3d1-3989338dcced"
      },
      "execution_count": null,
      "outputs": [
        {
          "output_type": "stream",
          "name": "stdout",
          "text": [
            "Original list =  [12, 12, 43, 65, 32, 32, 12]\n",
            "List after removing first duplicate element =  [12, 43, 65, 32, 12]\n"
          ]
        }
      ]
    },
    {
      "cell_type": "markdown",
      "source": [
        "2. Write a Python program to create a new dictionary by extracting the mentioned keys from the below dictionary.\n",
        "   ```python\n",
        "   sample_dict = { \"name\": \"Anderson\", \"age\": 35, \"salary\": 5000, \"city\": \"London\"}\n",
        "   keys = [\"name\", \"salary\"]\n",
        "   ```\n",
        "   Expected Output: `{'name': 'Anderson', 'salary': 5000}`\n"
      ],
      "metadata": {
        "id": "xnLug68v-vs6"
      }
    },
    {
      "cell_type": "code",
      "source": [
        "sample_dict = { \"name\": \"Anderson\", \"age\": 35, \"salary\": 5000, \"city\": \"London\"}\n",
        "keys = [\"name\", \"salary\"]\n",
        "\n",
        "new_dict = {}\n",
        "for key in keys:\n",
        "  new_dict[key] = sample_dict[key]\n",
        "print(new_dict)"
      ],
      "metadata": {
        "colab": {
          "base_uri": "https://localhost:8080/"
        },
        "id": "Nb49a4BnEPap",
        "outputId": "ef5e9ea2-dfaf-4383-855d-4bce87eef7f8"
      },
      "execution_count": null,
      "outputs": [
        {
          "output_type": "stream",
          "name": "stdout",
          "text": [
            "{'name': 'Anderson', 'salary': 5000}\n"
          ]
        }
      ]
    },
    {
      "cell_type": "markdown",
      "source": [
        "3. Write a Python program to convert two lists into a dictionary in a way that item from list_one is the key and item from list_two is the value.\n",
        "   ```python\n",
        "   list_one = ['one', 'two', 'three']\n",
        "   list_two = [1, 2, 3]\n",
        "   ```\n",
        "   Expected Output: `{'one': 1, 'two': 2, 'three': 3}`"
      ],
      "metadata": {
        "id": "76TpwdpG-yBe"
      }
    },
    {
      "cell_type": "code",
      "source": [
        "list_one = ['one', 'two', 'three']\n",
        "list_two = [1, 2, 3]\n",
        "new_dict ={}\n",
        "for key, value in zip(list_one, list_two):\n",
        "  new_dict[key] = value\n",
        "\n",
        "print(new_dict)"
      ],
      "metadata": {
        "colab": {
          "base_uri": "https://localhost:8080/"
        },
        "id": "IXCt_VQUFH5w",
        "outputId": "3ed514ab-dd8e-46eb-c3be-3c72bb32dd8b"
      },
      "execution_count": null,
      "outputs": [
        {
          "output_type": "stream",
          "name": "stdout",
          "text": [
            "{'one': 1, 'two': 2, 'three': 3}\n"
          ]
        }
      ]
    },
    {
      "cell_type": "code",
      "source": [],
      "metadata": {
        "id": "0FYTPb-L-xjP"
      },
      "execution_count": null,
      "outputs": []
    }
  ]
}