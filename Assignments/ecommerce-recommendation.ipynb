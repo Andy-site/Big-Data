{
 "cells": [
  {
   "cell_type": "markdown",
   "metadata": {},
   "source": [
    "# Background \n",
    "\n",
    "E-commerce companies like AMazon , flipkart uses different recommendation systems to provide suggestions to the customers.Amazon uses currently item-item collaberrative filtering, which scales to massive datasets and produces high quality recommendation system in the real time. This system is a kind of a information filtering system which seeks to predict the \"rating\" or preferences which user is interested in. \n",
    "\n",
    "\n",
    "\n",
    "\n",
    "\n"
   ]
  },
  {
   "cell_type": "markdown",
   "metadata": {},
   "source": [
    "# Introduction to Recommendation systems\n",
    "\n",
    "In this modern world we are overloaded with data and this data provides us the useful information. But it's not possible for the user to extract the information which interest them from these data. In order to help the user to find out information about the product , recommedation systems where developed. \n",
    "\n",
    "Recommeder system creates a similarity between the user and items and exploits the similarity between user/item to make recommendations.\n",
    "\n",
    "\n",
    "What recommeder system can solve ?\n",
    "\n",
    "1. It can help the user to find the right product.\n",
    "2. It can increase the user engagement. For example, there's 40% more click on the google news due to recommendation.\n",
    "3. It helps the item providers to deliver the items to the right user.In Amazon , 35 % products get sold due to recommendation.\n",
    "4. It helps to make the contents more personalized.In Netflix most of the rented movies are from recommendations.\n"
   ]
  },
  {
   "cell_type": "markdown",
   "metadata": {},
   "source": [
    "# Types of recommendations\n",
    "\n",
    "There are mainly 6 types of the recommendations systems :-\n",
    "\n",
    "1. Popularity based systems :- It works by recommeding items viewed and purchased by most people and are rated high.It is not a personalized recommendation.\n",
    "2. Classification model based:- It works by understanding the features of the user and applying the classification algorithm to decide whether the user is     interested or not in the prodcut.\n",
    "3. Content based recommedations:- It is based on the information on the contents of the item rather than on the user opinions.The main idea is if the user likes an item then he or she will like the \"other\" similar item.\n",
    "4. Collaberative Filtering:- It is based on assumption that people like things similar to other things they like, and things that are liked by other people with similar taste. it is mainly of two types:\n",
    " a) User-User \n",
    " b) Item -Item\n",
    " \n",
    "5. Hybrid Approaches:- This system approach is to combine collaborative filtering, content-based filtering, and other approaches . \n",
    "6. Association rule mining :- Association rules capture the relationships between items based on their patterns of co-occurrence across transactions.\n",
    "\n"
   ]
  },
  {
   "cell_type": "markdown",
   "metadata": {},
   "source": [
    "# Attribute Information:\n",
    "\n",
    "● userId : Every user identified with a unique id \n",
    "\n",
    "● productId : Every product identified with a unique id \n",
    "\n",
    "● Rating : Rating of the corresponding product by the corresponding user \n",
    "\n",
    "● timestamp : Time of the rating ( ignore this column for this exercise)\n",
    "\n"
   ]
  },
  {
   "cell_type": "markdown",
   "metadata": {},
   "source": [
    "# Import Libraries "
   ]
  },
  {
   "cell_type": "code",
   "execution_count": 1,
   "metadata": {
    "_cell_guid": "b1076dfc-b9ad-4769-8c92-a6c4dae69d19",
    "_uuid": "8f2839f25d086af736a60e9eeb907d3b93b6e0e5",
    "execution": {
     "iopub.execute_input": "2025-05-13T02:43:05.937667Z",
     "iopub.status.busy": "2025-05-13T02:43:05.937291Z",
     "iopub.status.idle": "2025-05-13T02:43:08.386150Z",
     "shell.execute_reply": "2025-05-13T02:43:08.385435Z",
     "shell.execute_reply.started": "2025-05-13T02:43:05.937611Z"
    },
    "trusted": true
   },
   "outputs": [
    {
     "name": "stdout",
     "output_type": "stream",
     "text": [
      "/kaggle/input/amazon-product-reviews/ratings_Electronics (1).csv\n"
     ]
    },
    {
     "name": "stderr",
     "output_type": "stream",
     "text": [
      "/opt/conda/lib/python3.6/site-packages/sklearn/externals/joblib/__init__.py:15: DeprecationWarning: sklearn.externals.joblib is deprecated in 0.21 and will be removed in 0.23. Please import this functionality directly from joblib, which can be installed with: pip install joblib. If this warning is raised when loading pickled models, you may need to re-serialize those models with scikit-learn 0.21+.\n",
      "  warnings.warn(msg, category=DeprecationWarning)\n"
     ]
    }
   ],
   "source": [
    "\n",
    "import numpy as np # linear algebra\n",
    "import pandas as pd # data processing, CSV file I/O (e.g. pd.read_csv)\n",
    "import os\n",
    "from IPython.core.interactiveshell import InteractiveShell\n",
    "InteractiveShell.ast_node_interactivity = \"all\"\n",
    "import math\n",
    "import json\n",
    "import time\n",
    "import matplotlib.pyplot as plt\n",
    "import seaborn as sns\n",
    "from sklearn.metrics.pairwise import cosine_similarity\n",
    "from sklearn.model_selection import train_test_split\n",
    "from sklearn.neighbors import NearestNeighbors\n",
    "from sklearn.externals import joblib\n",
    "import scipy.sparse\n",
    "from scipy.sparse import csr_matrix\n",
    "from scipy.sparse.linalg import svds\n",
    "import warnings; warnings.simplefilter('ignore')\n",
    "%matplotlib inline\n",
    "\n",
    "for dirname, _, filenames in os.walk('/kaggle/input'):\n",
    "    for filename in filenames:\n",
    "        print(os.path.join(dirname, filename))\n",
    "\n",
    "# Any results you write to the current directory are saved as output."
   ]
  },
  {
   "cell_type": "markdown",
   "metadata": {},
   "source": [
    "# Load the Dataset and Add headers"
   ]
  },
  {
   "cell_type": "code",
   "execution_count": 2,
   "metadata": {
    "execution": {
     "iopub.execute_input": "2025-05-13T02:43:08.387841Z",
     "iopub.status.busy": "2025-05-13T02:43:08.387588Z",
     "iopub.status.idle": "2025-05-13T02:43:17.044891Z",
     "shell.execute_reply": "2025-05-13T02:43:17.044308Z",
     "shell.execute_reply.started": "2025-05-13T02:43:08.387792Z"
    },
    "trusted": true
   },
   "outputs": [],
   "source": [
    "electronics_data=pd.read_csv(\"/kaggle/input/amazon-product-reviews/ratings_Electronics (1).csv\",names=['userId', 'productId','Rating','timestamp'])\n"
   ]
  },
  {
   "cell_type": "code",
   "execution_count": 3,
   "metadata": {
    "execution": {
     "iopub.execute_input": "2025-05-13T02:43:17.046506Z",
     "iopub.status.busy": "2025-05-13T02:43:17.046218Z",
     "iopub.status.idle": "2025-05-13T02:43:17.066359Z",
     "shell.execute_reply": "2025-05-13T02:43:17.065591Z",
     "shell.execute_reply.started": "2025-05-13T02:43:17.046456Z"
    },
    "trusted": true
   },
   "outputs": [
    {
     "data": {
      "text/html": [
       "<div>\n",
       "<style scoped>\n",
       "    .dataframe tbody tr th:only-of-type {\n",
       "        vertical-align: middle;\n",
       "    }\n",
       "\n",
       "    .dataframe tbody tr th {\n",
       "        vertical-align: top;\n",
       "    }\n",
       "\n",
       "    .dataframe thead th {\n",
       "        text-align: right;\n",
       "    }\n",
       "</style>\n",
       "<table border=\"1\" class=\"dataframe\">\n",
       "  <thead>\n",
       "    <tr style=\"text-align: right;\">\n",
       "      <th></th>\n",
       "      <th>userId</th>\n",
       "      <th>productId</th>\n",
       "      <th>Rating</th>\n",
       "      <th>timestamp</th>\n",
       "    </tr>\n",
       "  </thead>\n",
       "  <tbody>\n",
       "    <tr>\n",
       "      <th>0</th>\n",
       "      <td>AKM1MP6P0OYPR</td>\n",
       "      <td>0132793040</td>\n",
       "      <td>5.0</td>\n",
       "      <td>1365811200</td>\n",
       "    </tr>\n",
       "    <tr>\n",
       "      <th>1</th>\n",
       "      <td>A2CX7LUOHB2NDG</td>\n",
       "      <td>0321732944</td>\n",
       "      <td>5.0</td>\n",
       "      <td>1341100800</td>\n",
       "    </tr>\n",
       "    <tr>\n",
       "      <th>2</th>\n",
       "      <td>A2NWSAGRHCP8N5</td>\n",
       "      <td>0439886341</td>\n",
       "      <td>1.0</td>\n",
       "      <td>1367193600</td>\n",
       "    </tr>\n",
       "    <tr>\n",
       "      <th>3</th>\n",
       "      <td>A2WNBOD3WNDNKT</td>\n",
       "      <td>0439886341</td>\n",
       "      <td>3.0</td>\n",
       "      <td>1374451200</td>\n",
       "    </tr>\n",
       "    <tr>\n",
       "      <th>4</th>\n",
       "      <td>A1GI0U4ZRJA8WN</td>\n",
       "      <td>0439886341</td>\n",
       "      <td>1.0</td>\n",
       "      <td>1334707200</td>\n",
       "    </tr>\n",
       "  </tbody>\n",
       "</table>\n",
       "</div>"
      ],
      "text/plain": [
       "           userId   productId  Rating   timestamp\n",
       "0   AKM1MP6P0OYPR  0132793040     5.0  1365811200\n",
       "1  A2CX7LUOHB2NDG  0321732944     5.0  1341100800\n",
       "2  A2NWSAGRHCP8N5  0439886341     1.0  1367193600\n",
       "3  A2WNBOD3WNDNKT  0439886341     3.0  1374451200\n",
       "4  A1GI0U4ZRJA8WN  0439886341     1.0  1334707200"
      ]
     },
     "execution_count": 3,
     "metadata": {},
     "output_type": "execute_result"
    }
   ],
   "source": [
    "# Display the data\n",
    "\n",
    "electronics_data.head()\n"
   ]
  },
  {
   "cell_type": "code",
   "execution_count": 4,
   "metadata": {
    "execution": {
     "iopub.execute_input": "2025-05-13T02:43:17.067729Z",
     "iopub.status.busy": "2025-05-13T02:43:17.067533Z",
     "iopub.status.idle": "2025-05-13T02:43:17.077480Z",
     "shell.execute_reply": "2025-05-13T02:43:17.076585Z",
     "shell.execute_reply.started": "2025-05-13T02:43:17.067694Z"
    },
    "trusted": true
   },
   "outputs": [
    {
     "data": {
      "text/plain": [
       "(7824482, 4)"
      ]
     },
     "execution_count": 4,
     "metadata": {},
     "output_type": "execute_result"
    }
   ],
   "source": [
    "\n",
    "#Shape of the data\n",
    "electronics_data.shape"
   ]
  },
  {
   "cell_type": "code",
   "execution_count": 5,
   "metadata": {
    "execution": {
     "iopub.execute_input": "2025-05-13T02:43:17.080680Z",
     "iopub.status.busy": "2025-05-13T02:43:17.080350Z",
     "iopub.status.idle": "2025-05-13T02:43:17.111198Z",
     "shell.execute_reply": "2025-05-13T02:43:17.110687Z",
     "shell.execute_reply.started": "2025-05-13T02:43:17.080622Z"
    },
    "trusted": true
   },
   "outputs": [],
   "source": [
    "#Taking subset of the dataset\n",
    "electronics_data=electronics_data.iloc[:1048576,0:]"
   ]
  },
  {
   "cell_type": "code",
   "execution_count": 6,
   "metadata": {
    "execution": {
     "iopub.execute_input": "2025-05-13T02:43:17.114415Z",
     "iopub.status.busy": "2025-05-13T02:43:17.114029Z",
     "iopub.status.idle": "2025-05-13T02:43:17.119461Z",
     "shell.execute_reply": "2025-05-13T02:43:17.118851Z",
     "shell.execute_reply.started": "2025-05-13T02:43:17.114275Z"
    },
    "trusted": true
   },
   "outputs": [
    {
     "data": {
      "text/plain": [
       "userId        object\n",
       "productId     object\n",
       "Rating       float64\n",
       "timestamp      int64\n",
       "dtype: object"
      ]
     },
     "execution_count": 6,
     "metadata": {},
     "output_type": "execute_result"
    }
   ],
   "source": [
    "#Check the datatypes\n",
    "electronics_data.dtypes"
   ]
  },
  {
   "cell_type": "code",
   "execution_count": 7,
   "metadata": {
    "execution": {
     "iopub.execute_input": "2025-05-13T02:43:17.120809Z",
     "iopub.status.busy": "2025-05-13T02:43:17.120507Z",
     "iopub.status.idle": "2025-05-13T02:43:17.218633Z",
     "shell.execute_reply": "2025-05-13T02:43:17.217816Z",
     "shell.execute_reply.started": "2025-05-13T02:43:17.120737Z"
    },
    "trusted": true
   },
   "outputs": [
    {
     "name": "stdout",
     "output_type": "stream",
     "text": [
      "<class 'pandas.core.frame.DataFrame'>\n",
      "RangeIndex: 1048576 entries, 0 to 1048575\n",
      "Data columns (total 4 columns):\n",
      "userId       1048576 non-null object\n",
      "productId    1048576 non-null object\n",
      "Rating       1048576 non-null float64\n",
      "timestamp    1048576 non-null int64\n",
      "dtypes: float64(1), int64(1), object(2)\n",
      "memory usage: 32.0+ MB\n"
     ]
    }
   ],
   "source": [
    "electronics_data.info()\n"
   ]
  },
  {
   "cell_type": "code",
   "execution_count": 8,
   "metadata": {
    "execution": {
     "iopub.execute_input": "2025-05-13T02:43:17.220080Z",
     "iopub.status.busy": "2025-05-13T02:43:17.219874Z",
     "iopub.status.idle": "2025-05-13T02:43:17.293253Z",
     "shell.execute_reply": "2025-05-13T02:43:17.292441Z",
     "shell.execute_reply.started": "2025-05-13T02:43:17.220045Z"
    },
    "trusted": true
   },
   "outputs": [
    {
     "data": {
      "text/plain": [
       "count    1.048576e+06\n",
       "mean     3.973380e+00\n",
       "std      1.399329e+00\n",
       "min      1.000000e+00\n",
       "25%      3.000000e+00\n",
       "50%      5.000000e+00\n",
       "75%      5.000000e+00\n",
       "max      5.000000e+00\n",
       "Name: Rating, dtype: float64"
      ]
     },
     "execution_count": 8,
     "metadata": {},
     "output_type": "execute_result"
    }
   ],
   "source": [
    "#Five point summary \n",
    "\n",
    "electronics_data.describe()['Rating'].T\n"
   ]
  },
  {
   "cell_type": "code",
   "execution_count": 9,
   "metadata": {
    "execution": {
     "iopub.execute_input": "2025-05-13T02:43:17.295152Z",
     "iopub.status.busy": "2025-05-13T02:43:17.294817Z",
     "iopub.status.idle": "2025-05-13T02:43:17.307456Z",
     "shell.execute_reply": "2025-05-13T02:43:17.306823Z",
     "shell.execute_reply.started": "2025-05-13T02:43:17.295087Z"
    },
    "trusted": true
   },
   "outputs": [
    {
     "name": "stdout",
     "output_type": "stream",
     "text": [
      "Minimum rating is: 1\n",
      "Maximum rating is: 5\n"
     ]
    }
   ],
   "source": [
    "#Find the minimum and maximum ratings\n",
    "print('Minimum rating is: %d' %(electronics_data.Rating.min()))\n",
    "print('Maximum rating is: %d' %(electronics_data.Rating.max()))"
   ]
  },
  {
   "cell_type": "markdown",
   "metadata": {},
   "source": [
    "The rating of the product range from 0 to 1"
   ]
  },
  {
   "cell_type": "markdown",
   "metadata": {},
   "source": [
    "## Handling Missing values\n"
   ]
  },
  {
   "cell_type": "code",
   "execution_count": 10,
   "metadata": {
    "execution": {
     "iopub.execute_input": "2025-05-13T02:43:17.309456Z",
     "iopub.status.busy": "2025-05-13T02:43:17.309154Z",
     "iopub.status.idle": "2025-05-13T02:43:17.400896Z",
     "shell.execute_reply": "2025-05-13T02:43:17.400050Z",
     "shell.execute_reply.started": "2025-05-13T02:43:17.309396Z"
    },
    "trusted": true
   },
   "outputs": [
    {
     "name": "stdout",
     "output_type": "stream",
     "text": [
      "Number of missing values across columns: \n",
      " userId       0\n",
      "productId    0\n",
      "Rating       0\n",
      "timestamp    0\n",
      "dtype: int64\n"
     ]
    }
   ],
   "source": [
    "#Check for missing values\n",
    "print('Number of missing values across columns: \\n',electronics_data.isnull().sum())\n",
    "\n"
   ]
  },
  {
   "cell_type": "markdown",
   "metadata": {},
   "source": [
    "## Ratings"
   ]
  },
  {
   "cell_type": "code",
   "execution_count": 11,
   "metadata": {
    "execution": {
     "iopub.execute_input": "2025-05-13T02:43:17.402629Z",
     "iopub.status.busy": "2025-05-13T02:43:17.402261Z",
     "iopub.status.idle": "2025-05-13T02:43:17.949287Z",
     "shell.execute_reply": "2025-05-13T02:43:17.948431Z",
     "shell.execute_reply.started": "2025-05-13T02:43:17.402549Z"
    },
    "trusted": true
   },
   "outputs": [
    {
     "data": {
      "text/plain": [
       "<seaborn.axisgrid.FacetGrid at 0x7f60f5ac4438>"
      ]
     },
     "execution_count": 11,
     "metadata": {},
     "output_type": "execute_result"
    },
    {
     "data": {
      "image/png": "[encoded data removed]",
      "text/plain": [
       "<Figure size 720x360 with 1 Axes>"
      ]
     },
     "metadata": {},
     "output_type": "display_data"
    }
   ],
   "source": [
    "# Check the distribution of the rating\n",
    "with sns.axes_style('white'):\n",
    "    g = sns.factorplot(\"Rating\", data=electronics_data, aspect=2.0,kind='count')\n",
    "    g.set_ylabels(\"Total number of ratings\")"
   ]
  },
  {
   "cell_type": "markdown",
   "metadata": {},
   "source": [
    "Most of the people has given the rating of 5"
   ]
  },
  {
   "cell_type": "markdown",
   "metadata": {},
   "source": [
    "## Unique Users and products\n"
   ]
  },
  {
   "cell_type": "code",
   "execution_count": 12,
   "metadata": {
    "execution": {
     "iopub.execute_input": "2025-05-13T02:43:17.950789Z",
     "iopub.status.busy": "2025-05-13T02:43:17.950492Z",
     "iopub.status.idle": "2025-05-13T02:43:20.068156Z",
     "shell.execute_reply": "2025-05-13T02:43:20.067323Z",
     "shell.execute_reply.started": "2025-05-13T02:43:17.950717Z"
    },
    "trusted": true
   },
   "outputs": [
    {
     "name": "stdout",
     "output_type": "stream",
     "text": [
      "Total data \n",
      "--------------------------------------------------\n",
      "\n",
      "Total no of ratings : 1048576\n",
      "Total No of Users   : 786330\n",
      "Total No of products  : 61894\n"
     ]
    }
   ],
   "source": [
    "print(\"Total data \")\n",
    "print(\"-\"*50)\n",
    "print(\"\\nTotal no of ratings :\",electronics_data.shape[0])\n",
    "print(\"Total No of Users   :\", len(np.unique(electronics_data.userId)))\n",
    "print(\"Total No of products  :\", len(np.unique(electronics_data.productId)))"
   ]
  },
  {
   "cell_type": "markdown",
   "metadata": {},
   "source": [
    "## Dropping the TimeStamp Column"
   ]
  },
  {
   "cell_type": "code",
   "execution_count": 13,
   "metadata": {
    "execution": {
     "iopub.execute_input": "2025-05-13T02:43:20.069494Z",
     "iopub.status.busy": "2025-05-13T02:43:20.069295Z",
     "iopub.status.idle": "2025-05-13T02:43:20.102619Z",
     "shell.execute_reply": "2025-05-13T02:43:20.102006Z",
     "shell.execute_reply.started": "2025-05-13T02:43:20.069459Z"
    },
    "trusted": true
   },
   "outputs": [],
   "source": [
    "#Dropping the Timestamp column\n",
    "\n",
    "electronics_data.drop(['timestamp'], axis=1,inplace=True)"
   ]
  },
  {
   "cell_type": "markdown",
   "metadata": {},
   "source": [
    "# Analyzing the rating"
   ]
  },
  {
   "cell_type": "code",
   "execution_count": 14,
   "metadata": {
    "execution": {
     "iopub.execute_input": "2025-05-13T02:43:20.103874Z",
     "iopub.status.busy": "2025-05-13T02:43:20.103627Z",
     "iopub.status.idle": "2025-05-13T02:43:21.733984Z",
     "shell.execute_reply": "2025-05-13T02:43:21.733132Z",
     "shell.execute_reply.started": "2025-05-13T02:43:20.103827Z"
    },
    "trusted": true
   },
   "outputs": [
    {
     "data": {
      "text/plain": [
       "userId\n",
       "A5JLAU2ARJ0BO     412\n",
       "A231WM2Z2JL0U3    249\n",
       "A25HBO5V8S8SEA    164\n",
       "A6FIAB28IS79      146\n",
       "AT6CZDCP4TRGA     128\n",
       "Name: Rating, dtype: int64"
      ]
     },
     "execution_count": 14,
     "metadata": {},
     "output_type": "execute_result"
    }
   ],
   "source": [
    "#Analysis of rating given by the user \n",
    "\n",
    "no_of_rated_products_per_user = electronics_data.groupby(by='userId')['Rating'].count().sort_values(ascending=False)\n",
    "\n",
    "no_of_rated_products_per_user.head()"
   ]
  },
  {
   "cell_type": "code",
   "execution_count": 15,
   "metadata": {
    "execution": {
     "iopub.execute_input": "2025-05-13T02:43:21.735589Z",
     "iopub.status.busy": "2025-05-13T02:43:21.735285Z",
     "iopub.status.idle": "2025-05-13T02:43:21.760194Z",
     "shell.execute_reply": "2025-05-13T02:43:21.759500Z",
     "shell.execute_reply.started": "2025-05-13T02:43:21.735533Z"
    },
    "trusted": true
   },
   "outputs": [
    {
     "data": {
      "text/plain": [
       "count    786330.000000\n",
       "mean          1.333506\n",
       "std           1.385612\n",
       "min           1.000000\n",
       "25%           1.000000\n",
       "50%           1.000000\n",
       "75%           1.000000\n",
       "max         412.000000\n",
       "Name: Rating, dtype: float64"
      ]
     },
     "execution_count": 15,
     "metadata": {},
     "output_type": "execute_result"
    }
   ],
   "source": [
    "no_of_rated_products_per_user.describe()\n"
   ]
  },
  {
   "cell_type": "code",
   "execution_count": 16,
   "metadata": {
    "execution": {
     "iopub.execute_input": "2025-05-13T02:43:21.761862Z",
     "iopub.status.busy": "2025-05-13T02:43:21.761448Z",
     "iopub.status.idle": "2025-05-13T02:43:21.781389Z",
     "shell.execute_reply": "2025-05-13T02:43:21.780833Z",
     "shell.execute_reply.started": "2025-05-13T02:43:21.761697Z"
    },
    "trusted": true
   },
   "outputs": [],
   "source": [
    "quantiles = no_of_rated_products_per_user.quantile(np.arange(0,1.01,0.01), interpolation='higher')\n"
   ]
  },
  {
   "cell_type": "code",
   "execution_count": 17,
   "metadata": {
    "execution": {
     "iopub.execute_input": "2025-05-13T02:43:21.782525Z",
     "iopub.status.busy": "2025-05-13T02:43:21.782343Z",
     "iopub.status.idle": "2025-05-13T02:43:22.174724Z",
     "shell.execute_reply": "2025-05-13T02:43:22.173815Z",
     "shell.execute_reply.started": "2025-05-13T02:43:21.782492Z"
    },
    "trusted": true
   },
   "outputs": [
    {
     "data": {
      "text/plain": [
       "<Figure size 720x720 with 0 Axes>"
      ]
     },
     "execution_count": 17,
     "metadata": {},
     "output_type": "execute_result"
    },
    {
     "data": {
      "text/plain": [
       "Text(0.5, 1.0, 'Quantiles and their Values')"
      ]
     },
     "execution_count": 17,
     "metadata": {},
     "output_type": "execute_result"
    },
    {
     "data": {
      "text/plain": [
       "<matplotlib.axes._subplots.AxesSubplot at 0x7f60d12eab38>"
      ]
     },
     "execution_count": 17,
     "metadata": {},
     "output_type": "execute_result"
    },
    {
     "data": {
      "text/plain": [
       "<matplotlib.collections.PathCollection at 0x7f60d12d06d8>"
      ]
     },
     "execution_count": 17,
     "metadata": {},
     "output_type": "execute_result"
    },
    {
     "data": {
      "text/plain": [
       "<matplotlib.collections.PathCollection at 0x7f60f59c11d0>"
      ]
     },
     "execution_count": 17,
     "metadata": {},
     "output_type": "execute_result"
    },
    {
     "data": {
      "text/plain": [
       "Text(0, 0.5, 'No of ratings by user')"
      ]
     },
     "execution_count": 17,
     "metadata": {},
     "output_type": "execute_result"
    },
    {
     "data": {
      "text/plain": [
       "Text(0.5, 0, 'Value at the quantile')"
      ]
     },
     "execution_count": 17,
     "metadata": {},
     "output_type": "execute_result"
    },
    {
     "data": {
      "text/plain": [
       "<matplotlib.legend.Legend at 0x7f60f59c16a0>"
      ]
     },
     "execution_count": 17,
     "metadata": {},
     "output_type": "execute_result"
    },
    {
     "data": {
      "image/png": "[encoded data removed]",
      "text/plain": [
       "<Figure size 720x720 with 1 Axes>"
      ]
     },
     "metadata": {
      "needs_background": "light"
     },
     "output_type": "display_data"
    }
   ],
   "source": [
    "plt.figure(figsize=(10,10))\n",
    "plt.title(\"Quantiles and their Values\")\n",
    "quantiles.plot()\n",
    "# quantiles with 0.05 difference\n",
    "plt.scatter(x=quantiles.index[::5], y=quantiles.values[::5], c='orange', label=\"quantiles with 0.05 intervals\")\n",
    "# quantiles with 0.25 difference\n",
    "plt.scatter(x=quantiles.index[::25], y=quantiles.values[::25], c='m', label = \"quantiles with 0.25 intervals\")\n",
    "plt.ylabel('No of ratings by user')\n",
    "plt.xlabel('Value at the quantile')\n",
    "plt.legend(loc='best')\n",
    "plt.show()"
   ]
  },
  {
   "cell_type": "code",
   "execution_count": 18,
   "metadata": {
    "execution": {
     "iopub.execute_input": "2025-05-13T02:43:22.176560Z",
     "iopub.status.busy": "2025-05-13T02:43:22.176202Z",
     "iopub.status.idle": "2025-05-13T02:43:22.268607Z",
     "shell.execute_reply": "2025-05-13T02:43:22.267633Z",
     "shell.execute_reply.started": "2025-05-13T02:43:22.176505Z"
    },
    "trusted": true
   },
   "outputs": [
    {
     "name": "stdout",
     "output_type": "stream",
     "text": [
      "\n",
      " No of rated product more than 50 per user : 38\n",
      "\n"
     ]
    }
   ],
   "source": [
    "print('\\n No of rated product more than 50 per user : {}\\n'.format(sum(no_of_rated_products_per_user >= 50)) )\n"
   ]
  },
  {
   "cell_type": "markdown",
   "metadata": {},
   "source": [
    "# Popularity Based Recommendation\n",
    "\n",
    "Popularity based recommendation system works with the trend. It basically uses the items which are in trend right now. For example, if any product which is usually bought by every new user then there are chances that it may suggest that item to the user who just signed up.\n",
    "\n",
    "The problems with popularity based recommendation system is that the personalization is not available with this method i.e. even though you know the behaviour of the user you cannot recommend items accordingly.\n",
    "\n"
   ]
  },
  {
   "cell_type": "code",
   "execution_count": 19,
   "metadata": {
    "execution": {
     "iopub.execute_input": "2025-05-13T02:43:22.269803Z",
     "iopub.status.busy": "2025-05-13T02:43:22.269577Z",
     "iopub.status.idle": "2025-05-13T02:43:39.760843Z",
     "shell.execute_reply": "2025-05-13T02:43:39.759939Z",
     "shell.execute_reply.started": "2025-05-13T02:43:22.269733Z"
    },
    "trusted": true
   },
   "outputs": [],
   "source": [
    "#Getting the new dataframe which contains users who has given 50 or more ratings\n",
    "\n",
    "new_df=electronics_data.groupby(\"productId\").filter(lambda x:x['Rating'].count() >=50)"
   ]
  },
  {
   "cell_type": "code",
   "execution_count": 20,
   "metadata": {
    "execution": {
     "iopub.execute_input": "2025-05-13T02:43:39.762598Z",
     "iopub.status.busy": "2025-05-13T02:43:39.762299Z",
     "iopub.status.idle": "2025-05-13T02:43:40.035795Z",
     "shell.execute_reply": "2025-05-13T02:43:40.034813Z",
     "shell.execute_reply.started": "2025-05-13T02:43:39.762548Z"
    },
    "trusted": true
   },
   "outputs": [
    {
     "data": {
      "text/plain": [
       "[<matplotlib.lines.Line2D at 0x7f60f599e2b0>]"
      ]
     },
     "execution_count": 20,
     "metadata": {},
     "output_type": "execute_result"
    },
    {
     "data": {
      "text/plain": [
       "Text(0.5, 1.0, '# RATINGS per Product')"
      ]
     },
     "execution_count": 20,
     "metadata": {},
     "output_type": "execute_result"
    },
    {
     "data": {
      "text/plain": [
       "Text(0.5, 0, 'Product')"
      ]
     },
     "execution_count": 20,
     "metadata": {},
     "output_type": "execute_result"
    },
    {
     "data": {
      "text/plain": [
       "Text(0, 0.5, 'No of ratings per product')"
      ]
     },
     "execution_count": 20,
     "metadata": {},
     "output_type": "execute_result"
    },
    {
     "data": {
      "text/plain": [
       "[]"
      ]
     },
     "execution_count": 20,
     "metadata": {},
     "output_type": "execute_result"
    },
    {
     "data": {
      "image/png": "[encoded data removed]",
      "text/plain": [
       "<Figure size 576x288 with 1 Axes>"
      ]
     },
     "metadata": {
      "needs_background": "light"
     },
     "output_type": "display_data"
    }
   ],
   "source": [
    "no_of_ratings_per_product = new_df.groupby(by='productId')['Rating'].count().sort_values(ascending=False)\n",
    "\n",
    "fig = plt.figure(figsize=plt.figaspect(.5))\n",
    "ax = plt.gca()\n",
    "plt.plot(no_of_ratings_per_product.values)\n",
    "plt.title('# RATINGS per Product')\n",
    "plt.xlabel('Product')\n",
    "plt.ylabel('No of ratings per product')\n",
    "ax.set_xticklabels([])\n",
    "\n",
    "plt.show()"
   ]
  },
  {
   "cell_type": "code",
   "execution_count": 21,
   "metadata": {
    "execution": {
     "iopub.execute_input": "2025-05-13T02:43:40.037715Z",
     "iopub.status.busy": "2025-05-13T02:43:40.037360Z",
     "iopub.status.idle": "2025-05-13T02:43:40.126276Z",
     "shell.execute_reply": "2025-05-13T02:43:40.125770Z",
     "shell.execute_reply.started": "2025-05-13T02:43:40.037657Z"
    },
    "trusted": true
   },
   "outputs": [
    {
     "data": {
      "text/plain": [
       "productId\n",
       "0972683275    4.470980\n",
       "1400501466    3.560000\n",
       "1400501520    4.243902\n",
       "1400501776    3.884892\n",
       "1400532620    3.684211\n",
       "Name: Rating, dtype: float64"
      ]
     },
     "execution_count": 21,
     "metadata": {},
     "output_type": "execute_result"
    }
   ],
   "source": [
    "#Average rating of the product \n",
    "\n",
    "new_df.groupby('productId')['Rating'].mean().head()"
   ]
  },
  {
   "cell_type": "code",
   "execution_count": 22,
   "metadata": {
    "execution": {
     "iopub.execute_input": "2025-05-13T02:43:40.127408Z",
     "iopub.status.busy": "2025-05-13T02:43:40.127223Z",
     "iopub.status.idle": "2025-05-13T02:43:40.168736Z",
     "shell.execute_reply": "2025-05-13T02:43:40.167985Z",
     "shell.execute_reply.started": "2025-05-13T02:43:40.127376Z"
    },
    "trusted": true
   },
   "outputs": [
    {
     "data": {
      "text/plain": [
       "productId\n",
       "B0000DYV9H    4.947368\n",
       "B000053HC5    4.945783\n",
       "B00009R96C    4.885714\n",
       "B00005LE76    4.879310\n",
       "B000I1X3W8    4.869565\n",
       "Name: Rating, dtype: float64"
      ]
     },
     "execution_count": 22,
     "metadata": {},
     "output_type": "execute_result"
    }
   ],
   "source": [
    "new_df.groupby('productId')['Rating'].mean().sort_values(ascending=False).head()\n"
   ]
  },
  {
   "cell_type": "code",
   "execution_count": 23,
   "metadata": {
    "execution": {
     "iopub.execute_input": "2025-05-13T02:43:40.170234Z",
     "iopub.status.busy": "2025-05-13T02:43:40.169943Z",
     "iopub.status.idle": "2025-05-13T02:43:40.212881Z",
     "shell.execute_reply": "2025-05-13T02:43:40.212095Z",
     "shell.execute_reply.started": "2025-05-13T02:43:40.170179Z"
    },
    "trusted": true
   },
   "outputs": [
    {
     "data": {
      "text/plain": [
       "productId\n",
       "B0002L5R78    9487\n",
       "B0001FTVEK    5345\n",
       "B000I68BD4    4903\n",
       "B000BQ7GW8    4275\n",
       "B00007E7JU    3523\n",
       "Name: Rating, dtype: int64"
      ]
     },
     "execution_count": 23,
     "metadata": {},
     "output_type": "execute_result"
    }
   ],
   "source": [
    "#Total no of rating for product\n",
    "\n",
    "new_df.groupby('productId')['Rating'].count().sort_values(ascending=False).head()"
   ]
  },
  {
   "cell_type": "code",
   "execution_count": 24,
   "metadata": {
    "execution": {
     "iopub.execute_input": "2025-05-13T02:43:40.214390Z",
     "iopub.status.busy": "2025-05-13T02:43:40.214104Z",
     "iopub.status.idle": "2025-05-13T02:43:40.255056Z",
     "shell.execute_reply": "2025-05-13T02:43:40.254176Z",
     "shell.execute_reply.started": "2025-05-13T02:43:40.214336Z"
    },
    "trusted": true
   },
   "outputs": [],
   "source": [
    "ratings_mean_count = pd.DataFrame(new_df.groupby('productId')['Rating'].mean())\n"
   ]
  },
  {
   "cell_type": "code",
   "execution_count": 25,
   "metadata": {
    "execution": {
     "iopub.execute_input": "2025-05-13T02:43:40.256429Z",
     "iopub.status.busy": "2025-05-13T02:43:40.256206Z",
     "iopub.status.idle": "2025-05-13T02:43:40.297089Z",
     "shell.execute_reply": "2025-05-13T02:43:40.296575Z",
     "shell.execute_reply.started": "2025-05-13T02:43:40.256391Z"
    },
    "trusted": true
   },
   "outputs": [],
   "source": [
    "ratings_mean_count['rating_counts'] = pd.DataFrame(new_df.groupby('productId')['Rating'].count())\n"
   ]
  },
  {
   "cell_type": "code",
   "execution_count": 26,
   "metadata": {
    "execution": {
     "iopub.execute_input": "2025-05-13T02:43:40.298686Z",
     "iopub.status.busy": "2025-05-13T02:43:40.298389Z",
     "iopub.status.idle": "2025-05-13T02:43:40.307216Z",
     "shell.execute_reply": "2025-05-13T02:43:40.306536Z",
     "shell.execute_reply.started": "2025-05-13T02:43:40.298630Z"
    },
    "trusted": true
   },
   "outputs": [
    {
     "data": {
      "text/html": [
       "<div>\n",
       "<style scoped>\n",
       "    .dataframe tbody tr th:only-of-type {\n",
       "        vertical-align: middle;\n",
       "    }\n",
       "\n",
       "    .dataframe tbody tr th {\n",
       "        vertical-align: top;\n",
       "    }\n",
       "\n",
       "    .dataframe thead th {\n",
       "        text-align: right;\n",
       "    }\n",
       "</style>\n",
       "<table border=\"1\" class=\"dataframe\">\n",
       "  <thead>\n",
       "    <tr style=\"text-align: right;\">\n",
       "      <th></th>\n",
       "      <th>Rating</th>\n",
       "      <th>rating_counts</th>\n",
       "    </tr>\n",
       "    <tr>\n",
       "      <th>productId</th>\n",
       "      <th></th>\n",
       "      <th></th>\n",
       "    </tr>\n",
       "  </thead>\n",
       "  <tbody>\n",
       "    <tr>\n",
       "      <th>0972683275</th>\n",
       "      <td>4.470980</td>\n",
       "      <td>1051</td>\n",
       "    </tr>\n",
       "    <tr>\n",
       "      <th>1400501466</th>\n",
       "      <td>3.560000</td>\n",
       "      <td>250</td>\n",
       "    </tr>\n",
       "    <tr>\n",
       "      <th>1400501520</th>\n",
       "      <td>4.243902</td>\n",
       "      <td>82</td>\n",
       "    </tr>\n",
       "    <tr>\n",
       "      <th>1400501776</th>\n",
       "      <td>3.884892</td>\n",
       "      <td>139</td>\n",
       "    </tr>\n",
       "    <tr>\n",
       "      <th>1400532620</th>\n",
       "      <td>3.684211</td>\n",
       "      <td>171</td>\n",
       "    </tr>\n",
       "  </tbody>\n",
       "</table>\n",
       "</div>"
      ],
      "text/plain": [
       "              Rating  rating_counts\n",
       "productId                          \n",
       "0972683275  4.470980           1051\n",
       "1400501466  3.560000            250\n",
       "1400501520  4.243902             82\n",
       "1400501776  3.884892            139\n",
       "1400532620  3.684211            171"
      ]
     },
     "execution_count": 26,
     "metadata": {},
     "output_type": "execute_result"
    }
   ],
   "source": [
    "ratings_mean_count.head()\n"
   ]
  },
  {
   "cell_type": "code",
   "execution_count": 27,
   "metadata": {
    "execution": {
     "iopub.execute_input": "2025-05-13T02:43:40.308526Z",
     "iopub.status.busy": "2025-05-13T02:43:40.308331Z",
     "iopub.status.idle": "2025-05-13T02:43:40.317646Z",
     "shell.execute_reply": "2025-05-13T02:43:40.316780Z",
     "shell.execute_reply.started": "2025-05-13T02:43:40.308487Z"
    },
    "trusted": true
   },
   "outputs": [
    {
     "data": {
      "text/plain": [
       "9487"
      ]
     },
     "execution_count": 27,
     "metadata": {},
     "output_type": "execute_result"
    }
   ],
   "source": [
    "ratings_mean_count['rating_counts'].max()\n"
   ]
  },
  {
   "cell_type": "code",
   "execution_count": 28,
   "metadata": {
    "execution": {
     "iopub.execute_input": "2025-05-13T02:43:40.319009Z",
     "iopub.status.busy": "2025-05-13T02:43:40.318815Z",
     "iopub.status.idle": "2025-05-13T02:43:40.654777Z",
     "shell.execute_reply": "2025-05-13T02:43:40.653274Z",
     "shell.execute_reply.started": "2025-05-13T02:43:40.318975Z"
    },
    "trusted": true
   },
   "outputs": [
    {
     "data": {
      "text/plain": [
       "<Figure size 576x432 with 0 Axes>"
      ]
     },
     "execution_count": 28,
     "metadata": {},
     "output_type": "execute_result"
    },
    {
     "data": {
      "text/plain": [
       "<matplotlib.axes._subplots.AxesSubplot at 0x7f60f54e2f28>"
      ]
     },
     "execution_count": 28,
     "metadata": {},
     "output_type": "execute_result"
    },
    {
     "data": {
      "image/png": "[encoded data removed]",
      "text/plain": [
       "<Figure size 576x432 with 1 Axes>"
      ]
     },
     "metadata": {
      "needs_background": "light"
     },
     "output_type": "display_data"
    }
   ],
   "source": [
    "plt.figure(figsize=(8,6))\n",
    "plt.rcParams['patch.force_edgecolor'] = True\n",
    "ratings_mean_count['rating_counts'].hist(bins=50)"
   ]
  },
  {
   "cell_type": "code",
   "execution_count": 29,
   "metadata": {
    "execution": {
     "iopub.execute_input": "2025-05-13T02:43:40.657089Z",
     "iopub.status.busy": "2025-05-13T02:43:40.656532Z",
     "iopub.status.idle": "2025-05-13T02:43:41.031037Z",
     "shell.execute_reply": "2025-05-13T02:43:41.029532Z",
     "shell.execute_reply.started": "2025-05-13T02:43:40.657024Z"
    },
    "trusted": true
   },
   "outputs": [
    {
     "data": {
      "text/plain": [
       "<Figure size 576x432 with 0 Axes>"
      ]
     },
     "execution_count": 29,
     "metadata": {},
     "output_type": "execute_result"
    },
    {
     "data": {
      "text/plain": [
       "<matplotlib.axes._subplots.AxesSubplot at 0x7f60f58dc8d0>"
      ]
     },
     "execution_count": 29,
     "metadata": {},
     "output_type": "execute_result"
    },
    {
     "data": {
      "image/png": "[encoded data removed]",
      "text/plain": [
       "<Figure size 576x432 with 1 Axes>"
      ]
     },
     "metadata": {
      "needs_background": "light"
     },
     "output_type": "display_data"
    }
   ],
   "source": [
    "plt.figure(figsize=(8,6))\n",
    "plt.rcParams['patch.force_edgecolor'] = True\n",
    "ratings_mean_count['Rating'].hist(bins=50)"
   ]
  },
  {
   "cell_type": "code",
   "execution_count": 30,
   "metadata": {
    "execution": {
     "iopub.execute_input": "2025-05-13T02:43:41.032628Z",
     "iopub.status.busy": "2025-05-13T02:43:41.032170Z",
     "iopub.status.idle": "2025-05-13T02:43:41.894458Z",
     "shell.execute_reply": "2025-05-13T02:43:41.893332Z",
     "shell.execute_reply.started": "2025-05-13T02:43:41.032406Z"
    },
    "trusted": true
   },
   "outputs": [
    {
     "data": {
      "text/plain": [
       "<Figure size 576x432 with 0 Axes>"
      ]
     },
     "execution_count": 30,
     "metadata": {},
     "output_type": "execute_result"
    },
    {
     "data": {
      "text/plain": [
       "<seaborn.axisgrid.JointGrid at 0x7f60f582bba8>"
      ]
     },
     "execution_count": 30,
     "metadata": {},
     "output_type": "execute_result"
    },
    {
     "data": {
      "text/plain": [
       "<Figure size 576x432 with 0 Axes>"
      ]
     },
     "metadata": {},
     "output_type": "display_data"
    },
    {
     "data": {
      "image/png": "[encoded data removed]",
      "text/plain": [
       "<Figure size 432x432 with 3 Axes>"
      ]
     },
     "metadata": {
      "needs_background": "light"
     },
     "output_type": "display_data"
    }
   ],
   "source": [
    "plt.figure(figsize=(8,6))\n",
    "plt.rcParams['patch.force_edgecolor'] = True\n",
    "sns.jointplot(x='Rating', y='rating_counts', data=ratings_mean_count, alpha=0.4)"
   ]
  },
  {
   "cell_type": "code",
   "execution_count": 31,
   "metadata": {
    "execution": {
     "iopub.execute_input": "2025-05-13T02:43:41.896342Z",
     "iopub.status.busy": "2025-05-13T02:43:41.896062Z",
     "iopub.status.idle": "2025-05-13T02:43:42.390041Z",
     "shell.execute_reply": "2025-05-13T02:43:42.389007Z",
     "shell.execute_reply.started": "2025-05-13T02:43:41.896295Z"
    },
    "trusted": true
   },
   "outputs": [
    {
     "data": {
      "text/plain": [
       "<matplotlib.axes._subplots.AxesSubplot at 0x7f60f5735da0>"
      ]
     },
     "execution_count": 31,
     "metadata": {},
     "output_type": "execute_result"
    },
    {
     "data": {
      "image/png": "[encoded data removed]",
      "text/plain": [
       "<Figure size 432x288 with 1 Axes>"
      ]
     },
     "metadata": {
      "needs_background": "light"
     },
     "output_type": "display_data"
    }
   ],
   "source": [
    "popular_products = pd.DataFrame(new_df.groupby('productId')['Rating'].count())\n",
    "most_popular = popular_products.sort_values('Rating', ascending=False)\n",
    "most_popular.head(30).plot(kind = \"bar\")"
   ]
  },
  {
   "cell_type": "markdown",
   "metadata": {},
   "source": [
    "# Collaberative filtering (Item-Item recommedation)\n",
    "\n",
    "Collaborative filtering is commonly used for recommender systems. These techniques aim to fill in the missing entries of a user-item association matrix. We are going to use collaborative filtering (CF) approach.\n",
    "CF is based on the idea that the best recommendations come from people who have similar tastes. In other words, it uses historical item ratings of like-minded people to predict how someone would rate an item.Collaborative filtering has two sub-categories that are generally called memory based and model-based approaches.\n",
    "\n"
   ]
  },
  {
   "cell_type": "code",
   "execution_count": 32,
   "metadata": {
    "execution": {
     "iopub.execute_input": "2025-05-13T02:43:42.395537Z",
     "iopub.status.busy": "2025-05-13T02:43:42.395294Z",
     "iopub.status.idle": "2025-05-13T02:43:42.460739Z",
     "shell.execute_reply": "2025-05-13T02:43:42.460068Z",
     "shell.execute_reply.started": "2025-05-13T02:43:42.395482Z"
    },
    "trusted": true
   },
   "outputs": [],
   "source": [
    "from surprise import KNNWithMeans\n",
    "from surprise import Dataset\n",
    "from surprise import accuracy\n",
    "from surprise import Reader\n",
    "import os\n",
    "from surprise.model_selection import train_test_split"
   ]
  },
  {
   "cell_type": "code",
   "execution_count": 33,
   "metadata": {
    "execution": {
     "iopub.execute_input": "2025-05-13T02:43:42.462382Z",
     "iopub.status.busy": "2025-05-13T02:43:42.462145Z",
     "iopub.status.idle": "2025-05-13T02:43:43.133768Z",
     "shell.execute_reply": "2025-05-13T02:43:43.132876Z",
     "shell.execute_reply.started": "2025-05-13T02:43:42.462336Z"
    },
    "trusted": true
   },
   "outputs": [],
   "source": [
    "#Reading the dataset\n",
    "reader = Reader(rating_scale=(1, 5))\n",
    "data = Dataset.load_from_df(new_df,reader)"
   ]
  },
  {
   "cell_type": "code",
   "execution_count": 34,
   "metadata": {
    "execution": {
     "iopub.execute_input": "2025-05-13T02:43:43.135495Z",
     "iopub.status.busy": "2025-05-13T02:43:43.135184Z",
     "iopub.status.idle": "2025-05-13T02:43:45.267874Z",
     "shell.execute_reply": "2025-05-13T02:43:45.267230Z",
     "shell.execute_reply.started": "2025-05-13T02:43:43.135433Z"
    },
    "trusted": true
   },
   "outputs": [],
   "source": [
    "#Splitting the dataset\n",
    "trainset, testset = train_test_split(data, test_size=0.3,random_state=10)"
   ]
  },
  {
   "cell_type": "code",
   "execution_count": 35,
   "metadata": {
    "execution": {
     "iopub.execute_input": "2025-05-13T02:43:45.269368Z",
     "iopub.status.busy": "2025-05-13T02:43:45.269075Z",
     "iopub.status.idle": "2025-05-13T02:43:49.759957Z",
     "shell.execute_reply": "2025-05-13T02:43:49.759107Z",
     "shell.execute_reply.started": "2025-05-13T02:43:45.269314Z"
    },
    "trusted": true
   },
   "outputs": [
    {
     "name": "stdout",
     "output_type": "stream",
     "text": [
      "Estimating biases using als...\n",
      "Computing the pearson_baseline similarity matrix...\n",
      "Done computing similarity matrix.\n"
     ]
    },
    {
     "data": {
      "text/plain": [
       "<surprise.prediction_algorithms.knns.KNNWithMeans at 0x7f60d12ea8d0>"
      ]
     },
     "execution_count": 35,
     "metadata": {},
     "output_type": "execute_result"
    }
   ],
   "source": [
    "# Use user_based true/false to switch between user-based or item-based collaborative filtering\n",
    "algo = KNNWithMeans(k=5, sim_options={'name': 'pearson_baseline', 'user_based': False})\n",
    "algo.fit(trainset)"
   ]
  },
  {
   "cell_type": "code",
   "execution_count": 36,
   "metadata": {
    "execution": {
     "iopub.execute_input": "2025-05-13T02:43:49.761938Z",
     "iopub.status.busy": "2025-05-13T02:43:49.761361Z",
     "iopub.status.idle": "2025-05-13T02:43:51.481148Z",
     "shell.execute_reply": "2025-05-13T02:43:51.480553Z",
     "shell.execute_reply.started": "2025-05-13T02:43:49.761654Z"
    },
    "trusted": true
   },
   "outputs": [],
   "source": [
    "# run the trained model against the testset\n",
    "test_pred = algo.test(testset)"
   ]
  },
  {
   "cell_type": "code",
   "execution_count": 37,
   "metadata": {
    "_kg_hide-output": true,
    "execution": {
     "iopub.execute_input": "2025-05-13T02:43:51.482233Z",
     "iopub.status.busy": "2025-05-13T02:43:51.482042Z",
     "iopub.status.idle": "2025-05-13T02:43:51.485102Z",
     "shell.execute_reply": "2025-05-13T02:43:51.484370Z",
     "shell.execute_reply.started": "2025-05-13T02:43:51.482200Z"
    },
    "trusted": true
   },
   "outputs": [],
   "source": [
    "# test_pred\n",
    "#"
   ]
  },
  {
   "cell_type": "code",
   "execution_count": 38,
   "metadata": {
    "execution": {
     "iopub.execute_input": "2025-05-13T02:43:51.486300Z",
     "iopub.status.busy": "2025-05-13T02:43:51.486098Z",
     "iopub.status.idle": "2025-05-13T02:43:51.696578Z",
     "shell.execute_reply": "2025-05-13T02:43:51.695811Z",
     "shell.execute_reply.started": "2025-05-13T02:43:51.486255Z"
    },
    "trusted": true
   },
   "outputs": [
    {
     "name": "stdout",
     "output_type": "stream",
     "text": [
      "Item-based Model : Test Set\n",
      "RMSE: 1.3436\n"
     ]
    },
    {
     "data": {
      "text/plain": [
       "1.343641161111319"
      ]
     },
     "execution_count": 38,
     "metadata": {},
     "output_type": "execute_result"
    }
   ],
   "source": [
    "# get RMSE\n",
    "print(\"Item-based Model : Test Set\")\n",
    "accuracy.rmse(test_pred, verbose=True)"
   ]
  },
  {
   "cell_type": "markdown",
   "metadata": {},
   "source": [
    "# Model-based collaborative filtering system\n",
    "\n",
    "These methods are based on machine learning and data mining techniques. The goal is to train models to be able to make predictions. For example, we could use existing user-item interactions to train a model to predict the top-5 items that a user might like the most. One advantage of these methods is that they are able to recommend a larger number of items to a larger number of users, compared to other methods like memory based approach. They have large coverage, even when working with large sparse matrices."
   ]
  },
  {
   "cell_type": "code",
   "execution_count": 39,
   "metadata": {
    "execution": {
     "iopub.execute_input": "2025-05-13T02:43:51.697782Z",
     "iopub.status.busy": "2025-05-13T02:43:51.697562Z",
     "iopub.status.idle": "2025-05-13T02:43:51.798077Z",
     "shell.execute_reply": "2025-05-13T02:43:51.797380Z",
     "shell.execute_reply.started": "2025-05-13T02:43:51.697722Z"
    },
    "trusted": true
   },
   "outputs": [
    {
     "data": {
      "text/html": [
       "<div>\n",
       "<style scoped>\n",
       "    .dataframe tbody tr th:only-of-type {\n",
       "        vertical-align: middle;\n",
       "    }\n",
       "\n",
       "    .dataframe tbody tr th {\n",
       "        vertical-align: top;\n",
       "    }\n",
       "\n",
       "    .dataframe thead th {\n",
       "        text-align: right;\n",
       "    }\n",
       "</style>\n",
       "<table border=\"1\" class=\"dataframe\">\n",
       "  <thead>\n",
       "    <tr style=\"text-align: right;\">\n",
       "      <th>productId</th>\n",
       "      <th>0972683275</th>\n",
       "      <th>1400501466</th>\n",
       "      <th>1400501520</th>\n",
       "      <th>1400501776</th>\n",
       "      <th>1400532620</th>\n",
       "      <th>1400532655</th>\n",
       "      <th>140053271X</th>\n",
       "      <th>1400532736</th>\n",
       "      <th>1400599997</th>\n",
       "      <th>1400698987</th>\n",
       "      <th>...</th>\n",
       "      <th>B00000JFMK</th>\n",
       "      <th>B00000JHWX</th>\n",
       "      <th>B00000JI4F</th>\n",
       "      <th>B00000JII6</th>\n",
       "      <th>B00000JMUG</th>\n",
       "      <th>B00000JPPI</th>\n",
       "      <th>B00000JSGF</th>\n",
       "      <th>B00000JYLO</th>\n",
       "      <th>B00000JYWQ</th>\n",
       "      <th>B00000K135</th>\n",
       "    </tr>\n",
       "    <tr>\n",
       "      <th>userId</th>\n",
       "      <th></th>\n",
       "      <th></th>\n",
       "      <th></th>\n",
       "      <th></th>\n",
       "      <th></th>\n",
       "      <th></th>\n",
       "      <th></th>\n",
       "      <th></th>\n",
       "      <th></th>\n",
       "      <th></th>\n",
       "      <th></th>\n",
       "      <th></th>\n",
       "      <th></th>\n",
       "      <th></th>\n",
       "      <th></th>\n",
       "      <th></th>\n",
       "      <th></th>\n",
       "      <th></th>\n",
       "      <th></th>\n",
       "      <th></th>\n",
       "      <th></th>\n",
       "    </tr>\n",
       "  </thead>\n",
       "  <tbody>\n",
       "    <tr>\n",
       "      <th>A01852072Z7B68UHLI5UG</th>\n",
       "      <td>0</td>\n",
       "      <td>0</td>\n",
       "      <td>0</td>\n",
       "      <td>0</td>\n",
       "      <td>0</td>\n",
       "      <td>0</td>\n",
       "      <td>0</td>\n",
       "      <td>0</td>\n",
       "      <td>0</td>\n",
       "      <td>0</td>\n",
       "      <td>...</td>\n",
       "      <td>0</td>\n",
       "      <td>0</td>\n",
       "      <td>0</td>\n",
       "      <td>0</td>\n",
       "      <td>0</td>\n",
       "      <td>0</td>\n",
       "      <td>0</td>\n",
       "      <td>0</td>\n",
       "      <td>0</td>\n",
       "      <td>0</td>\n",
       "    </tr>\n",
       "    <tr>\n",
       "      <th>A0266076X6KPZ6CCHGVS</th>\n",
       "      <td>0</td>\n",
       "      <td>0</td>\n",
       "      <td>0</td>\n",
       "      <td>0</td>\n",
       "      <td>0</td>\n",
       "      <td>0</td>\n",
       "      <td>0</td>\n",
       "      <td>0</td>\n",
       "      <td>0</td>\n",
       "      <td>0</td>\n",
       "      <td>...</td>\n",
       "      <td>0</td>\n",
       "      <td>0</td>\n",
       "      <td>0</td>\n",
       "      <td>0</td>\n",
       "      <td>0</td>\n",
       "      <td>0</td>\n",
       "      <td>0</td>\n",
       "      <td>0</td>\n",
       "      <td>0</td>\n",
       "      <td>0</td>\n",
       "    </tr>\n",
       "    <tr>\n",
       "      <th>A0293130VTX2ZXA70JQS</th>\n",
       "      <td>5</td>\n",
       "      <td>0</td>\n",
       "      <td>0</td>\n",
       "      <td>0</td>\n",
       "      <td>0</td>\n",
       "      <td>0</td>\n",
       "      <td>0</td>\n",
       "      <td>0</td>\n",
       "      <td>0</td>\n",
       "      <td>0</td>\n",
       "      <td>...</td>\n",
       "      <td>0</td>\n",
       "      <td>0</td>\n",
       "      <td>0</td>\n",
       "      <td>0</td>\n",
       "      <td>0</td>\n",
       "      <td>0</td>\n",
       "      <td>0</td>\n",
       "      <td>0</td>\n",
       "      <td>0</td>\n",
       "      <td>0</td>\n",
       "    </tr>\n",
       "    <tr>\n",
       "      <th>A030530627MK66BD8V4LN</th>\n",
       "      <td>4</td>\n",
       "      <td>0</td>\n",
       "      <td>0</td>\n",
       "      <td>0</td>\n",
       "      <td>0</td>\n",
       "      <td>0</td>\n",
       "      <td>0</td>\n",
       "      <td>0</td>\n",
       "      <td>0</td>\n",
       "      <td>0</td>\n",
       "      <td>...</td>\n",
       "      <td>0</td>\n",
       "      <td>0</td>\n",
       "      <td>0</td>\n",
       "      <td>0</td>\n",
       "      <td>0</td>\n",
       "      <td>0</td>\n",
       "      <td>0</td>\n",
       "      <td>0</td>\n",
       "      <td>0</td>\n",
       "      <td>0</td>\n",
       "    </tr>\n",
       "    <tr>\n",
       "      <th>A0571176384K8RBNKGF8O</th>\n",
       "      <td>0</td>\n",
       "      <td>0</td>\n",
       "      <td>0</td>\n",
       "      <td>0</td>\n",
       "      <td>0</td>\n",
       "      <td>0</td>\n",
       "      <td>0</td>\n",
       "      <td>0</td>\n",
       "      <td>0</td>\n",
       "      <td>0</td>\n",
       "      <td>...</td>\n",
       "      <td>0</td>\n",
       "      <td>0</td>\n",
       "      <td>0</td>\n",
       "      <td>0</td>\n",
       "      <td>0</td>\n",
       "      <td>0</td>\n",
       "      <td>0</td>\n",
       "      <td>0</td>\n",
       "      <td>0</td>\n",
       "      <td>0</td>\n",
       "    </tr>\n",
       "  </tbody>\n",
       "</table>\n",
       "<p>5 rows × 76 columns</p>\n",
       "</div>"
      ],
      "text/plain": [
       "productId              0972683275  1400501466  1400501520  1400501776  \\\n",
       "userId                                                                  \n",
       "A01852072Z7B68UHLI5UG           0           0           0           0   \n",
       "A0266076X6KPZ6CCHGVS            0           0           0           0   \n",
       "A0293130VTX2ZXA70JQS            5           0           0           0   \n",
       "A030530627MK66BD8V4LN           4           0           0           0   \n",
       "A0571176384K8RBNKGF8O           0           0           0           0   \n",
       "\n",
       "productId              1400532620  1400532655  140053271X  1400532736  \\\n",
       "userId                                                                  \n",
       "A01852072Z7B68UHLI5UG           0           0           0           0   \n",
       "A0266076X6KPZ6CCHGVS            0           0           0           0   \n",
       "A0293130VTX2ZXA70JQS            0           0           0           0   \n",
       "A030530627MK66BD8V4LN           0           0           0           0   \n",
       "A0571176384K8RBNKGF8O           0           0           0           0   \n",
       "\n",
       "productId              1400599997  1400698987  ...  B00000JFMK  B00000JHWX  \\\n",
       "userId                                         ...                           \n",
       "A01852072Z7B68UHLI5UG           0           0  ...           0           0   \n",
       "A0266076X6KPZ6CCHGVS            0           0  ...           0           0   \n",
       "A0293130VTX2ZXA70JQS            0           0  ...           0           0   \n",
       "A030530627MK66BD8V4LN           0           0  ...           0           0   \n",
       "A0571176384K8RBNKGF8O           0           0  ...           0           0   \n",
       "\n",
       "productId              B00000JI4F  B00000JII6  B00000JMUG  B00000JPPI  \\\n",
       "userId                                                                  \n",
       "A01852072Z7B68UHLI5UG           0           0           0           0   \n",
       "A0266076X6KPZ6CCHGVS            0           0           0           0   \n",
       "A0293130VTX2ZXA70JQS            0           0           0           0   \n",
       "A030530627MK66BD8V4LN           0           0           0           0   \n",
       "A0571176384K8RBNKGF8O           0           0           0           0   \n",
       "\n",
       "productId              B00000JSGF  B00000JYLO  B00000JYWQ  B00000K135  \n",
       "userId                                                                 \n",
       "A01852072Z7B68UHLI5UG           0           0           0           0  \n",
       "A0266076X6KPZ6CCHGVS            0           0           0           0  \n",
       "A0293130VTX2ZXA70JQS            0           0           0           0  \n",
       "A030530627MK66BD8V4LN           0           0           0           0  \n",
       "A0571176384K8RBNKGF8O           0           0           0           0  \n",
       "\n",
       "[5 rows x 76 columns]"
      ]
     },
     "execution_count": 39,
     "metadata": {},
     "output_type": "execute_result"
    }
   ],
   "source": [
    "\n",
    "new_df1=new_df.head(10000)\n",
    "ratings_matrix = new_df1.pivot_table(values='Rating', index='userId', columns='productId', fill_value=0)\n",
    "ratings_matrix.head()"
   ]
  },
  {
   "cell_type": "markdown",
   "metadata": {},
   "source": [
    "As expected, the utility matrix obtaned above is sparce, I have filled up the unknown values wth 0.\n",
    "\n"
   ]
  },
  {
   "cell_type": "code",
   "execution_count": 40,
   "metadata": {
    "execution": {
     "iopub.execute_input": "2025-05-13T02:43:51.799268Z",
     "iopub.status.busy": "2025-05-13T02:43:51.799075Z",
     "iopub.status.idle": "2025-05-13T02:43:51.803540Z",
     "shell.execute_reply": "2025-05-13T02:43:51.802871Z",
     "shell.execute_reply.started": "2025-05-13T02:43:51.799235Z"
    },
    "trusted": true
   },
   "outputs": [
    {
     "data": {
      "text/plain": [
       "(9832, 76)"
      ]
     },
     "execution_count": 40,
     "metadata": {},
     "output_type": "execute_result"
    }
   ],
   "source": [
    "ratings_matrix.shape\n"
   ]
  },
  {
   "cell_type": "markdown",
   "metadata": {},
   "source": [
    "Transposing the matrix"
   ]
  },
  {
   "cell_type": "code",
   "execution_count": 41,
   "metadata": {
    "execution": {
     "iopub.execute_input": "2025-05-13T02:43:51.805264Z",
     "iopub.status.busy": "2025-05-13T02:43:51.804980Z",
     "iopub.status.idle": "2025-05-13T02:43:51.824516Z",
     "shell.execute_reply": "2025-05-13T02:43:51.823911Z",
     "shell.execute_reply.started": "2025-05-13T02:43:51.805209Z"
    },
    "trusted": true
   },
   "outputs": [
    {
     "data": {
      "text/html": [
       "<div>\n",
       "<style scoped>\n",
       "    .dataframe tbody tr th:only-of-type {\n",
       "        vertical-align: middle;\n",
       "    }\n",
       "\n",
       "    .dataframe tbody tr th {\n",
       "        vertical-align: top;\n",
       "    }\n",
       "\n",
       "    .dataframe thead th {\n",
       "        text-align: right;\n",
       "    }\n",
       "</style>\n",
       "<table border=\"1\" class=\"dataframe\">\n",
       "  <thead>\n",
       "    <tr style=\"text-align: right;\">\n",
       "      <th>userId</th>\n",
       "      <th>A01852072Z7B68UHLI5UG</th>\n",
       "      <th>A0266076X6KPZ6CCHGVS</th>\n",
       "      <th>A0293130VTX2ZXA70JQS</th>\n",
       "      <th>A030530627MK66BD8V4LN</th>\n",
       "      <th>A0571176384K8RBNKGF8O</th>\n",
       "      <th>A0590501PZ7HOWJKBGQ4</th>\n",
       "      <th>A0641581307AKT5MAOU0Q</th>\n",
       "      <th>A076219533YHEV2LJO988</th>\n",
       "      <th>A0821988FXKFYX53V4QG</th>\n",
       "      <th>A099626739FNCRNHIKBCG</th>\n",
       "      <th>...</th>\n",
       "      <th>AZWOPBY75SGAM</th>\n",
       "      <th>AZX0ZDVAFMN78</th>\n",
       "      <th>AZX5LAN9JEAFF</th>\n",
       "      <th>AZX7I110AF0W2</th>\n",
       "      <th>AZXKUK895VGSM</th>\n",
       "      <th>AZXP46IB63PU8</th>\n",
       "      <th>AZYTSU42BZ7TP</th>\n",
       "      <th>AZZGJ2KMWB7R</th>\n",
       "      <th>AZZMV5VT9W7Y8</th>\n",
       "      <th>AZZST8OYL5P4Q</th>\n",
       "    </tr>\n",
       "    <tr>\n",
       "      <th>productId</th>\n",
       "      <th></th>\n",
       "      <th></th>\n",
       "      <th></th>\n",
       "      <th></th>\n",
       "      <th></th>\n",
       "      <th></th>\n",
       "      <th></th>\n",
       "      <th></th>\n",
       "      <th></th>\n",
       "      <th></th>\n",
       "      <th></th>\n",
       "      <th></th>\n",
       "      <th></th>\n",
       "      <th></th>\n",
       "      <th></th>\n",
       "      <th></th>\n",
       "      <th></th>\n",
       "      <th></th>\n",
       "      <th></th>\n",
       "      <th></th>\n",
       "      <th></th>\n",
       "    </tr>\n",
       "  </thead>\n",
       "  <tbody>\n",
       "    <tr>\n",
       "      <th>0972683275</th>\n",
       "      <td>0</td>\n",
       "      <td>0</td>\n",
       "      <td>5</td>\n",
       "      <td>4</td>\n",
       "      <td>0</td>\n",
       "      <td>0</td>\n",
       "      <td>0</td>\n",
       "      <td>0</td>\n",
       "      <td>0</td>\n",
       "      <td>0</td>\n",
       "      <td>...</td>\n",
       "      <td>0</td>\n",
       "      <td>0</td>\n",
       "      <td>0</td>\n",
       "      <td>0</td>\n",
       "      <td>0</td>\n",
       "      <td>0</td>\n",
       "      <td>0</td>\n",
       "      <td>0</td>\n",
       "      <td>0</td>\n",
       "      <td>0</td>\n",
       "    </tr>\n",
       "    <tr>\n",
       "      <th>1400501466</th>\n",
       "      <td>0</td>\n",
       "      <td>0</td>\n",
       "      <td>0</td>\n",
       "      <td>0</td>\n",
       "      <td>0</td>\n",
       "      <td>0</td>\n",
       "      <td>0</td>\n",
       "      <td>0</td>\n",
       "      <td>0</td>\n",
       "      <td>0</td>\n",
       "      <td>...</td>\n",
       "      <td>0</td>\n",
       "      <td>0</td>\n",
       "      <td>0</td>\n",
       "      <td>0</td>\n",
       "      <td>0</td>\n",
       "      <td>0</td>\n",
       "      <td>0</td>\n",
       "      <td>0</td>\n",
       "      <td>0</td>\n",
       "      <td>0</td>\n",
       "    </tr>\n",
       "    <tr>\n",
       "      <th>1400501520</th>\n",
       "      <td>0</td>\n",
       "      <td>0</td>\n",
       "      <td>0</td>\n",
       "      <td>0</td>\n",
       "      <td>0</td>\n",
       "      <td>0</td>\n",
       "      <td>0</td>\n",
       "      <td>0</td>\n",
       "      <td>0</td>\n",
       "      <td>3</td>\n",
       "      <td>...</td>\n",
       "      <td>0</td>\n",
       "      <td>0</td>\n",
       "      <td>0</td>\n",
       "      <td>0</td>\n",
       "      <td>0</td>\n",
       "      <td>0</td>\n",
       "      <td>0</td>\n",
       "      <td>0</td>\n",
       "      <td>0</td>\n",
       "      <td>0</td>\n",
       "    </tr>\n",
       "    <tr>\n",
       "      <th>1400501776</th>\n",
       "      <td>0</td>\n",
       "      <td>0</td>\n",
       "      <td>0</td>\n",
       "      <td>0</td>\n",
       "      <td>0</td>\n",
       "      <td>0</td>\n",
       "      <td>0</td>\n",
       "      <td>0</td>\n",
       "      <td>0</td>\n",
       "      <td>0</td>\n",
       "      <td>...</td>\n",
       "      <td>0</td>\n",
       "      <td>0</td>\n",
       "      <td>0</td>\n",
       "      <td>0</td>\n",
       "      <td>0</td>\n",
       "      <td>0</td>\n",
       "      <td>0</td>\n",
       "      <td>0</td>\n",
       "      <td>1</td>\n",
       "      <td>0</td>\n",
       "    </tr>\n",
       "    <tr>\n",
       "      <th>1400532620</th>\n",
       "      <td>0</td>\n",
       "      <td>0</td>\n",
       "      <td>0</td>\n",
       "      <td>0</td>\n",
       "      <td>0</td>\n",
       "      <td>0</td>\n",
       "      <td>0</td>\n",
       "      <td>0</td>\n",
       "      <td>0</td>\n",
       "      <td>0</td>\n",
       "      <td>...</td>\n",
       "      <td>0</td>\n",
       "      <td>0</td>\n",
       "      <td>0</td>\n",
       "      <td>0</td>\n",
       "      <td>0</td>\n",
       "      <td>0</td>\n",
       "      <td>0</td>\n",
       "      <td>0</td>\n",
       "      <td>0</td>\n",
       "      <td>0</td>\n",
       "    </tr>\n",
       "  </tbody>\n",
       "</table>\n",
       "<p>5 rows × 9832 columns</p>\n",
       "</div>"
      ],
      "text/plain": [
       "userId      A01852072Z7B68UHLI5UG  A0266076X6KPZ6CCHGVS  A0293130VTX2ZXA70JQS  \\\n",
       "productId                                                                       \n",
       "0972683275                      0                     0                     5   \n",
       "1400501466                      0                     0                     0   \n",
       "1400501520                      0                     0                     0   \n",
       "1400501776                      0                     0                     0   \n",
       "1400532620                      0                     0                     0   \n",
       "\n",
       "userId      A030530627MK66BD8V4LN  A0571176384K8RBNKGF8O  \\\n",
       "productId                                                  \n",
       "0972683275                      4                      0   \n",
       "1400501466                      0                      0   \n",
       "1400501520                      0                      0   \n",
       "1400501776                      0                      0   \n",
       "1400532620                      0                      0   \n",
       "\n",
       "userId      A0590501PZ7HOWJKBGQ4  A0641581307AKT5MAOU0Q  \\\n",
       "productId                                                 \n",
       "0972683275                     0                      0   \n",
       "1400501466                     0                      0   \n",
       "1400501520                     0                      0   \n",
       "1400501776                     0                      0   \n",
       "1400532620                     0                      0   \n",
       "\n",
       "userId      A076219533YHEV2LJO988  A0821988FXKFYX53V4QG  \\\n",
       "productId                                                 \n",
       "0972683275                      0                     0   \n",
       "1400501466                      0                     0   \n",
       "1400501520                      0                     0   \n",
       "1400501776                      0                     0   \n",
       "1400532620                      0                     0   \n",
       "\n",
       "userId      A099626739FNCRNHIKBCG  ...  AZWOPBY75SGAM  AZX0ZDVAFMN78  \\\n",
       "productId                          ...                                 \n",
       "0972683275                      0  ...              0              0   \n",
       "1400501466                      0  ...              0              0   \n",
       "1400501520                      3  ...              0              0   \n",
       "1400501776                      0  ...              0              0   \n",
       "1400532620                      0  ...              0              0   \n",
       "\n",
       "userId      AZX5LAN9JEAFF  AZX7I110AF0W2  AZXKUK895VGSM  AZXP46IB63PU8  \\\n",
       "productId                                                                \n",
       "0972683275              0              0              0              0   \n",
       "1400501466              0              0              0              0   \n",
       "1400501520              0              0              0              0   \n",
       "1400501776              0              0              0              0   \n",
       "1400532620              0              0              0              0   \n",
       "\n",
       "userId      AZYTSU42BZ7TP  AZZGJ2KMWB7R  AZZMV5VT9W7Y8  AZZST8OYL5P4Q  \n",
       "productId                                                              \n",
       "0972683275              0             0              0              0  \n",
       "1400501466              0             0              0              0  \n",
       "1400501520              0             0              0              0  \n",
       "1400501776              0             0              1              0  \n",
       "1400532620              0             0              0              0  \n",
       "\n",
       "[5 rows x 9832 columns]"
      ]
     },
     "execution_count": 41,
     "metadata": {},
     "output_type": "execute_result"
    }
   ],
   "source": [
    "X = ratings_matrix.T\n",
    "X.head()"
   ]
  },
  {
   "cell_type": "code",
   "execution_count": 42,
   "metadata": {
    "_cell_guid": "79c7e3d0-c299-4dcb-8224-4455121ee9b0",
    "_uuid": "d629ff2d2480ee46fbb7e2d37f6b5fab8052498a",
    "execution": {
     "iopub.execute_input": "2025-05-13T02:43:51.826122Z",
     "iopub.status.busy": "2025-05-13T02:43:51.825805Z",
     "iopub.status.idle": "2025-05-13T02:43:51.831310Z",
     "shell.execute_reply": "2025-05-13T02:43:51.830526Z",
     "shell.execute_reply.started": "2025-05-13T02:43:51.826045Z"
    },
    "trusted": true
   },
   "outputs": [
    {
     "data": {
      "text/plain": [
       "(76, 9832)"
      ]
     },
     "execution_count": 42,
     "metadata": {},
     "output_type": "execute_result"
    }
   ],
   "source": [
    "X.shape\n"
   ]
  },
  {
   "cell_type": "markdown",
   "metadata": {},
   "source": [
    "Unique products in subset of data\n"
   ]
  },
  {
   "cell_type": "code",
   "execution_count": 43,
   "metadata": {
    "execution": {
     "iopub.execute_input": "2025-05-13T02:43:51.832762Z",
     "iopub.status.busy": "2025-05-13T02:43:51.832461Z",
     "iopub.status.idle": "2025-05-13T02:43:51.839505Z",
     "shell.execute_reply": "2025-05-13T02:43:51.838882Z",
     "shell.execute_reply.started": "2025-05-13T02:43:51.832689Z"
    },
    "trusted": true
   },
   "outputs": [],
   "source": [
    "X1 = X\n"
   ]
  },
  {
   "cell_type": "code",
   "execution_count": 44,
   "metadata": {
    "execution": {
     "iopub.execute_input": "2025-05-13T02:43:51.840915Z",
     "iopub.status.busy": "2025-05-13T02:43:51.840687Z",
     "iopub.status.idle": "2025-05-13T02:43:51.955292Z",
     "shell.execute_reply": "2025-05-13T02:43:51.953849Z",
     "shell.execute_reply.started": "2025-05-13T02:43:51.840880Z"
    },
    "trusted": true
   },
   "outputs": [
    {
     "data": {
      "text/plain": [
       "(76, 10)"
      ]
     },
     "execution_count": 44,
     "metadata": {},
     "output_type": "execute_result"
    }
   ],
   "source": [
    "#Decomposing the Matrix\n",
    "from sklearn.decomposition import TruncatedSVD\n",
    "SVD = TruncatedSVD(n_components=10)\n",
    "decomposed_matrix = SVD.fit_transform(X)\n",
    "decomposed_matrix.shape"
   ]
  },
  {
   "cell_type": "code",
   "execution_count": 45,
   "metadata": {
    "execution": {
     "iopub.execute_input": "2025-05-13T02:43:51.957271Z",
     "iopub.status.busy": "2025-05-13T02:43:51.956871Z",
     "iopub.status.idle": "2025-05-13T02:43:51.970139Z",
     "shell.execute_reply": "2025-05-13T02:43:51.968036Z",
     "shell.execute_reply.started": "2025-05-13T02:43:51.957211Z"
    },
    "trusted": true
   },
   "outputs": [
    {
     "data": {
      "text/plain": [
       "(76, 76)"
      ]
     },
     "execution_count": 45,
     "metadata": {},
     "output_type": "execute_result"
    }
   ],
   "source": [
    "#Correlation Matrix\n",
    "\n",
    "correlation_matrix = np.corrcoef(decomposed_matrix)\n",
    "correlation_matrix.shape"
   ]
  },
  {
   "cell_type": "code",
   "execution_count": 46,
   "metadata": {
    "execution": {
     "iopub.execute_input": "2025-05-13T02:43:51.971921Z",
     "iopub.status.busy": "2025-05-13T02:43:51.971573Z",
     "iopub.status.idle": "2025-05-13T02:43:51.985581Z",
     "shell.execute_reply": "2025-05-13T02:43:51.983365Z",
     "shell.execute_reply.started": "2025-05-13T02:43:51.971866Z"
    },
    "trusted": true
   },
   "outputs": [
    {
     "data": {
      "text/plain": [
       "'B00000K135'"
      ]
     },
     "execution_count": 46,
     "metadata": {},
     "output_type": "execute_result"
    }
   ],
   "source": [
    "X.index[75]\n"
   ]
  },
  {
   "cell_type": "markdown",
   "metadata": {},
   "source": [
    "Index # of product ID purchased by customer\n",
    "\n"
   ]
  },
  {
   "cell_type": "code",
   "execution_count": 47,
   "metadata": {
    "execution": {
     "iopub.execute_input": "2025-05-13T02:43:51.987650Z",
     "iopub.status.busy": "2025-05-13T02:43:51.987310Z",
     "iopub.status.idle": "2025-05-13T02:43:51.998169Z",
     "shell.execute_reply": "2025-05-13T02:43:51.996955Z",
     "shell.execute_reply.started": "2025-05-13T02:43:51.987595Z"
    },
    "trusted": true
   },
   "outputs": [
    {
     "data": {
      "text/plain": [
       "75"
      ]
     },
     "execution_count": 47,
     "metadata": {},
     "output_type": "execute_result"
    }
   ],
   "source": [
    "i = \"B00000K135\"\n",
    "\n",
    "product_names = list(X.index)\n",
    "product_ID = product_names.index(i)\n",
    "product_ID"
   ]
  },
  {
   "cell_type": "markdown",
   "metadata": {},
   "source": [
    "Correlation for all items with the item purchased by this customer based on items rated by other customers people who bought the same product"
   ]
  },
  {
   "cell_type": "code",
   "execution_count": 48,
   "metadata": {
    "execution": {
     "iopub.execute_input": "2025-05-13T02:43:52.003922Z",
     "iopub.status.busy": "2025-05-13T02:43:52.000173Z",
     "iopub.status.idle": "2025-05-13T02:43:52.013330Z",
     "shell.execute_reply": "2025-05-13T02:43:52.011804Z",
     "shell.execute_reply.started": "2025-05-13T02:43:52.003853Z"
    },
    "trusted": true
   },
   "outputs": [
    {
     "data": {
      "text/plain": [
       "(76,)"
      ]
     },
     "execution_count": 48,
     "metadata": {},
     "output_type": "execute_result"
    }
   ],
   "source": [
    "correlation_product_ID = correlation_matrix[product_ID]\n",
    "correlation_product_ID.shape"
   ]
  },
  {
   "cell_type": "markdown",
   "metadata": {},
   "source": [
    "Recommending top 25 highly correlated products in sequence\n",
    "\n"
   ]
  },
  {
   "cell_type": "code",
   "execution_count": 49,
   "metadata": {
    "execution": {
     "iopub.execute_input": "2025-05-13T02:43:52.018272Z",
     "iopub.status.busy": "2025-05-13T02:43:52.017930Z",
     "iopub.status.idle": "2025-05-13T02:43:52.033228Z",
     "shell.execute_reply": "2025-05-13T02:43:52.032177Z",
     "shell.execute_reply.started": "2025-05-13T02:43:52.018209Z"
    },
    "trusted": true
   },
   "outputs": [
    {
     "data": {
      "text/plain": [
       "['9985511476',\n",
       " 'B000001OM4',\n",
       " 'B00000J08Q',\n",
       " 'B00000J0D8',\n",
       " 'B00000J1SC',\n",
       " 'B00000J1TX',\n",
       " 'B00000J1V3',\n",
       " 'B00000J3UJ',\n",
       " 'B00000J4EY',\n",
       " 'B00000JBAT',\n",
       " 'B00000JBHP']"
      ]
     },
     "execution_count": 49,
     "metadata": {},
     "output_type": "execute_result"
    }
   ],
   "source": [
    "Recommend = list(X.index[correlation_product_ID > 0.65])\n",
    "\n",
    "# Removes the item already bought by the customer\n",
    "Recommend.remove(i) \n",
    "\n",
    "Recommend[0:24]"
   ]
  },
  {
   "cell_type": "markdown",
   "metadata": {},
   "source": [
    "Here are the top 10 products to be displayed by the recommendation system to the above customer based on the purchase history of other customers in the website.\n"
   ]
  },
  {
   "cell_type": "markdown",
   "metadata": {},
   "source": [
    "# Matrix Factorization with ALS (Alternating Least Squares)"
   ]
  },
  {
   "cell_type": "code",
   "execution_count": 50,
   "metadata": {
    "execution": {
     "iopub.execute_input": "2025-05-13T02:43:52.035287Z",
     "iopub.status.busy": "2025-05-13T02:43:52.034957Z",
     "iopub.status.idle": "2025-05-13T02:43:53.302180Z",
     "shell.execute_reply": "2025-05-13T02:43:53.301576Z",
     "shell.execute_reply.started": "2025-05-13T02:43:52.035236Z"
    },
    "trusted": true
   },
   "outputs": [],
   "source": [
    "from sklearn.preprocessing import LabelEncoder\n",
    "\n",
    "user_encoder = LabelEncoder()\n",
    "item_encoder = LabelEncoder()\n",
    "\n",
    "new_df['user_id_encoded'] = user_encoder.fit_transform(new_df['userId'])\n",
    "new_df['product_id_encoded'] = item_encoder.fit_transform(new_df['productId'])\n"
   ]
  },
  {
   "cell_type": "code",
   "execution_count": 51,
   "metadata": {
    "execution": {
     "iopub.execute_input": "2025-05-13T02:43:53.303933Z",
     "iopub.status.busy": "2025-05-13T02:43:53.303630Z",
     "iopub.status.idle": "2025-05-13T02:43:53.343927Z",
     "shell.execute_reply": "2025-05-13T02:43:53.343363Z",
     "shell.execute_reply.started": "2025-05-13T02:43:53.303880Z"
    },
    "trusted": true
   },
   "outputs": [],
   "source": [
    "from scipy.sparse import coo_matrix, csr_matrix\n",
    "#  Convert to CSR\n",
    "user_item_matrix = coo_matrix(\n",
    "    (new_df['Rating'], (new_df['user_id_encoded'], new_df['product_id_encoded']))\n",
    ").tocsr()"
   ]
  },
  {
   "cell_type": "code",
   "execution_count": 52,
   "metadata": {
    "execution": {
     "iopub.execute_input": "2025-05-13T02:43:53.345036Z",
     "iopub.status.busy": "2025-05-13T02:43:53.344851Z",
     "iopub.status.idle": "2025-05-13T02:46:01.387033Z",
     "shell.execute_reply": "2025-05-13T02:46:01.384106Z",
     "shell.execute_reply.started": "2025-05-13T02:43:53.345004Z"
    },
    "trusted": true
   },
   "outputs": [
    {
     "data": {
      "application/vnd.jupyter.widget-view+json": {
       "model_id": "d954149f1bc74302adea6a4fc0e9cf82",
       "version_major": 2,
       "version_minor": 0
      },
      "text/plain": [
       "HBox(children=(FloatProgress(value=0.0, max=10.0), HTML(value='')))"
      ]
     },
     "metadata": {},
     "output_type": "display_data"
    },
    {
     "name": "stdout",
     "output_type": "stream",
     "text": [
      "\n"
     ]
    }
   ],
   "source": [
    "from implicit.als import AlternatingLeastSquares\n",
    "#  Fit the ALS model (transpose here only!)\n",
    "Als_model = AlternatingLeastSquares(factors=20, regularization=0.1, iterations=10)\n",
    "Als_model.fit(user_item_matrix.T)  # item-user matrix (transposed)"
   ]
  },
  {
   "cell_type": "code",
   "execution_count": 53,
   "metadata": {
    "execution": {
     "iopub.execute_input": "2025-05-13T02:46:01.391412Z",
     "iopub.status.busy": "2025-05-13T02:46:01.389057Z",
     "iopub.status.idle": "2025-05-13T02:46:01.402169Z",
     "shell.execute_reply": "2025-05-13T02:46:01.400395Z",
     "shell.execute_reply.started": "2025-05-13T02:46:01.389388Z"
    },
    "trusted": true
   },
   "outputs": [],
   "source": [
    "# Pick a valid user index\n",
    "test_user_index = new_df['user_id_encoded'].iloc[0]\n",
    "\n",
    "# Recommend using original user_item_matrix (NOT TRANSPOSED)\n",
    "recommendations = Als_model.recommend(test_user_index, user_item_matrix, N=5)"
   ]
  },
  {
   "cell_type": "code",
   "execution_count": 54,
   "metadata": {
    "execution": {
     "iopub.execute_input": "2025-05-13T02:46:01.404452Z",
     "iopub.status.busy": "2025-05-13T02:46:01.403987Z",
     "iopub.status.idle": "2025-05-13T02:46:01.420045Z",
     "shell.execute_reply": "2025-05-13T02:46:01.417558Z",
     "shell.execute_reply.started": "2025-05-13T02:46:01.404236Z"
    },
    "trusted": true
   },
   "outputs": [
    {
     "name": "stdout",
     "output_type": "stream",
     "text": [
      "Raw recommendations: [(3198, 0.23002364), (806, 0.18101333), (1156, 0.1776199), (2551, 0.1684143), (1799, 0.16747747)]\n",
      "Top recommendations: ['B000EVSLRO' 'B00007M1TZ' 'B0000BVYTV' 'B000A6PPOK' 'B0002SQ2P2']\n"
     ]
    }
   ],
   "source": [
    "# Check recommendation output\n",
    "print(\"Raw recommendations:\", recommendations)\n",
    "\n",
    "# Extract only valid indices\n",
    "filtered = [item for item, score in recommendations if item < len(item_encoder.classes_)]\n",
    "recommended_products = item_encoder.inverse_transform(filtered)\n",
    "\n",
    "print(\"Top recommendations:\", recommended_products)\n"
   ]
  },
  {
   "cell_type": "markdown",
   "metadata": {},
   "source": [
    "# Item-Item Collaborative Filtering\n"
   ]
  },
  {
   "cell_type": "code",
   "execution_count": 55,
   "metadata": {
    "execution": {
     "iopub.execute_input": "2025-05-13T02:46:01.422174Z",
     "iopub.status.busy": "2025-05-13T02:46:01.421830Z",
     "iopub.status.idle": "2025-05-13T02:46:01.437309Z",
     "shell.execute_reply": "2025-05-13T02:46:01.435826Z",
     "shell.execute_reply.started": "2025-05-13T02:46:01.422122Z"
    },
    "trusted": true
   },
   "outputs": [
    {
     "data": {
      "text/plain": [
       "NearestNeighbors(algorithm='auto', leaf_size=30, metric='cosine',\n",
       "                 metric_params=None, n_jobs=None, n_neighbors=5, p=2,\n",
       "                 radius=1.0)"
      ]
     },
     "execution_count": 55,
     "metadata": {},
     "output_type": "execute_result"
    }
   ],
   "source": [
    "# Fit KNN model for item-item similarity\n",
    "knn = NearestNeighbors(n_neighbors=5, metric='cosine')\n",
    "knn.fit(ratings_matrix)  # We use .T to transpose, so items are rows\n",
    "\n"
   ]
  },
  {
   "cell_type": "code",
   "execution_count": 56,
   "metadata": {
    "execution": {
     "iopub.execute_input": "2025-05-13T02:46:01.444236Z",
     "iopub.status.busy": "2025-05-13T02:46:01.441648Z",
     "iopub.status.idle": "2025-05-13T02:46:01.458331Z",
     "shell.execute_reply": "2025-05-13T02:46:01.456908Z",
     "shell.execute_reply.started": "2025-05-13T02:46:01.442013Z"
    },
    "trusted": true
   },
   "outputs": [
    {
     "name": "stdout",
     "output_type": "stream",
     "text": [
      "Index(['A01852072Z7B68UHLI5UG', 'A0266076X6KPZ6CCHGVS', 'A0293130VTX2ZXA70JQS',\n",
      "       'A030530627MK66BD8V4LN', 'A0571176384K8RBNKGF8O',\n",
      "       'A0590501PZ7HOWJKBGQ4', 'A0641581307AKT5MAOU0Q',\n",
      "       'A076219533YHEV2LJO988', 'A0821988FXKFYX53V4QG',\n",
      "       'A099626739FNCRNHIKBCG'],\n",
      "      dtype='object', name='userId')\n"
     ]
    }
   ],
   "source": [
    "# View first few product IDs in the index\n",
    "print(ratings_matrix.index[:10])\n"
   ]
  },
  {
   "cell_type": "code",
   "execution_count": 57,
   "metadata": {
    "execution": {
     "iopub.execute_input": "2025-05-13T02:46:01.464216Z",
     "iopub.status.busy": "2025-05-13T02:46:01.463815Z",
     "iopub.status.idle": "2025-05-13T02:46:01.498593Z",
     "shell.execute_reply": "2025-05-13T02:46:01.497622Z",
     "shell.execute_reply.started": "2025-05-13T02:46:01.464158Z"
    },
    "trusted": true
   },
   "outputs": [
    {
     "name": "stdout",
     "output_type": "stream",
     "text": [
      "Recommended Product IDs:\n",
      "AEKRUPH3CRAS1\n",
      "A3CX02IGUE2FV9\n",
      "AONK23UMJ07Y7\n",
      "A1BRRHSNSYDV9J\n",
      "A35P6RIPEEEIB5\n"
     ]
    }
   ],
   "source": [
    "# Example: Recommend similar products to a given product\n",
    "product_id = \"A01852072Z7B68UHLI5UG\"  # Example product ID\n",
    "\n",
    "if product_id in ratings_matrix.index:\n",
    "    product_vector = ratings_matrix.loc[product_id].values.reshape(1, -1)\n",
    "    distances, indices = knn.kneighbors(product_vector, n_neighbors=6)  # include the product itself + 5 similar ones\n",
    "    print(\"Recommended Product IDs:\")\n",
    "    for idx in indices.flatten()[1:]:  # skip the first one (it will be the product itself)\n",
    "        print(ratings_matrix.index[idx])\n",
    "else:\n",
    "    print(f\"Product ID {product_id} not found in ratings matrix.\")"
   ]
  },
  {
   "cell_type": "markdown",
   "metadata": {},
   "source": []
  },
  {
   "cell_type": "markdown",
   "metadata": {},
   "source": [
    "# Neural Collaborative Filtering (NCF)\n",
    "\n"
   ]
  },
  {
   "cell_type": "code",
   "execution_count": 58,
   "metadata": {
    "execution": {
     "iopub.execute_input": "2025-05-13T02:46:01.500888Z",
     "iopub.status.busy": "2025-05-13T02:46:01.500520Z",
     "iopub.status.idle": "2025-05-13T02:46:02.871511Z",
     "shell.execute_reply": "2025-05-13T02:46:02.870967Z",
     "shell.execute_reply.started": "2025-05-13T02:46:01.500832Z"
    },
    "trusted": true
   },
   "outputs": [],
   "source": [
    "# Assume new_df is already defined\n",
    "df = new_df.copy()\n",
    "\n",
    "# Label encoding\n",
    "user_encoder = LabelEncoder()\n",
    "item_encoder = LabelEncoder()\n",
    "df['user'] = user_encoder.fit_transform(df['userId'])\n",
    "df['item'] = item_encoder.fit_transform(df['productId'])\n",
    "\n",
    "num_users = df['user'].nunique()\n",
    "num_items = df['item'].nunique()\n",
    "\n"
   ]
  },
  {
   "cell_type": "code",
   "execution_count": 59,
   "metadata": {
    "execution": {
     "iopub.execute_input": "2025-05-13T02:46:02.872790Z",
     "iopub.status.busy": "2025-05-13T02:46:02.872502Z",
     "iopub.status.idle": "2025-05-13T02:46:02.877108Z",
     "shell.execute_reply": "2025-05-13T02:46:02.876456Z",
     "shell.execute_reply.started": "2025-05-13T02:46:02.872730Z"
    },
    "trusted": true
   },
   "outputs": [],
   "source": [
    "# Inputs\n",
    "user_input_data = df['user'].values\n",
    "item_input_data = df['item'].values\n",
    "ratings_data = df['Rating'].values.astype(np.float32)\n",
    "\n"
   ]
  },
  {
   "cell_type": "code",
   "execution_count": 60,
   "metadata": {
    "execution": {
     "iopub.execute_input": "2025-05-13T02:46:02.878677Z",
     "iopub.status.busy": "2025-05-13T02:46:02.878412Z",
     "iopub.status.idle": "2025-05-13T02:46:02.888536Z",
     "shell.execute_reply": "2025-05-13T02:46:02.887820Z",
     "shell.execute_reply.started": "2025-05-13T02:46:02.878629Z"
    },
    "trusted": true
   },
   "outputs": [],
   "source": [
    "# Stack features\n",
    "X = np.stack((user_input_data, item_input_data), axis=1)\n",
    "y = ratings_data"
   ]
  },
  {
   "cell_type": "code",
   "execution_count": 62,
   "metadata": {
    "execution": {
     "iopub.execute_input": "2025-05-13T02:56:22.488181Z",
     "iopub.status.busy": "2025-05-13T02:56:22.487852Z",
     "iopub.status.idle": "2025-05-13T02:56:22.520843Z",
     "shell.execute_reply": "2025-05-13T02:56:22.520066Z",
     "shell.execute_reply.started": "2025-05-13T02:56:22.488131Z"
    },
    "trusted": true
   },
   "outputs": [],
   "source": [
    "from sklearn.model_selection import train_test_split\n",
    "\n",
    "X_train, X_test, y_train, y_test = train_test_split(\n",
    "    X, y, test_size=0.2, random_state=42\n",
    ")"
   ]
  },
  {
   "cell_type": "code",
   "execution_count": 83,
   "metadata": {
    "execution": {
     "iopub.execute_input": "2025-05-13T03:09:52.766575Z",
     "iopub.status.busy": "2025-05-13T03:09:52.766247Z",
     "iopub.status.idle": "2025-05-13T03:09:52.770932Z",
     "shell.execute_reply": "2025-05-13T03:09:52.769997Z",
     "shell.execute_reply.started": "2025-05-13T03:09:52.766519Z"
    },
    "trusted": true
   },
   "outputs": [],
   "source": [
    "# Separate user and item inputs for training and testing\n",
    "X_train_u = X_train[:, 0]\n",
    "X_train_i = X_train[:, 1]\n",
    "X_test_u = X_test[:, 0]\n",
    "X_test_i = X_test[:, 1]"
   ]
  },
  {
   "cell_type": "code",
   "execution_count": 65,
   "metadata": {
    "execution": {
     "iopub.execute_input": "2025-05-13T03:00:53.491115Z",
     "iopub.status.busy": "2025-05-13T03:00:53.490831Z",
     "iopub.status.idle": "2025-05-13T03:01:01.042041Z",
     "shell.execute_reply": "2025-05-13T03:01:01.041355Z",
     "shell.execute_reply.started": "2025-05-13T03:00:53.491078Z"
    },
    "trusted": true
   },
   "outputs": [],
   "source": [
    "from tensorflow.keras.layers import Input, Embedding, Flatten\n",
    "embedding_size = 50  # hyperparameter\n",
    "\n",
    "# User input\n",
    "user_input = Input(shape=(1,), name='user_input')\n",
    "user_embedding = Embedding(input_dim=num_users, output_dim=embedding_size, name='user_embedding')(user_input)\n",
    "user_vec = Flatten()(user_embedding)\n",
    "\n",
    "# Item input\n",
    "item_input = Input(shape=(1,), name='item_input')\n",
    "item_embedding = Embedding(input_dim=num_items, output_dim=embedding_size, name='item_embedding')(item_input)\n",
    "item_vec = Flatten()(item_embedding)"
   ]
  },
  {
   "cell_type": "code",
   "execution_count": 67,
   "metadata": {
    "execution": {
     "iopub.execute_input": "2025-05-13T03:03:18.620303Z",
     "iopub.status.busy": "2025-05-13T03:03:18.619966Z",
     "iopub.status.idle": "2025-05-13T03:03:18.830888Z",
     "shell.execute_reply": "2025-05-13T03:03:18.830327Z",
     "shell.execute_reply.started": "2025-05-13T03:03:18.620251Z"
    },
    "trusted": true
   },
   "outputs": [],
   "source": [
    "from tensorflow.keras.layers import Concatenate\n",
    "# Embedding layers\n",
    "user_embedding = Embedding(input_dim=num_users, output_dim=embedding_size, name='user_embedding')(user_input)\n",
    "item_embedding = Embedding(input_dim=num_items, output_dim=embedding_size, name='item_embedding')(item_input)\n",
    "\n",
    "# Flatten layers\n",
    "user_vec = Flatten()(user_embedding)\n",
    "item_vec = Flatten()(item_embedding)\n",
    "\n",
    "# Concatenate user and item embeddings\n",
    "concat = Concatenate()([user_vec, item_vec])  "
   ]
  },
  {
   "cell_type": "code",
   "execution_count": 70,
   "metadata": {
    "execution": {
     "iopub.execute_input": "2025-05-13T03:05:19.077134Z",
     "iopub.status.busy": "2025-05-13T03:05:19.076823Z",
     "iopub.status.idle": "2025-05-13T03:05:19.480715Z",
     "shell.execute_reply": "2025-05-13T03:05:19.480022Z",
     "shell.execute_reply.started": "2025-05-13T03:05:19.077093Z"
    },
    "trusted": true
   },
   "outputs": [],
   "source": [
    "from tensorflow.keras.layers import  Dense, Dropout\n",
    "# Fully connected layers\n",
    "fc1 = Dense(128, activation='relu')(concat)\n",
    "drop1 = Dropout(0.5)(fc1)\n",
    "fc2 = Dense(64, activation='relu')(drop1)\n",
    "fc3 = Dense(32, activation='relu')(fc2)\n",
    "output = Dense(1, activation='linear')(fc3)\n",
    "\n"
   ]
  },
  {
   "cell_type": "code",
   "execution_count": 86,
   "metadata": {
    "execution": {
     "iopub.execute_input": "2025-05-13T03:35:41.516943Z",
     "iopub.status.busy": "2025-05-13T03:35:41.516605Z",
     "iopub.status.idle": "2025-05-13T03:35:41.523152Z",
     "shell.execute_reply": "2025-05-13T03:35:41.522492Z",
     "shell.execute_reply.started": "2025-05-13T03:35:41.516887Z"
    },
    "trusted": true
   },
   "outputs": [],
   "source": [
    "from tensorflow.keras.models import Model\n",
    "# Build and compile model\n",
    "NCF_model = Model(inputs=[user_input, item_input], outputs=output)\n"
   ]
  },
  {
   "cell_type": "code",
   "execution_count": 87,
   "metadata": {
    "execution": {
     "iopub.execute_input": "2025-05-13T03:36:27.266993Z",
     "iopub.status.busy": "2025-05-13T03:36:27.266655Z",
     "iopub.status.idle": "2025-05-13T03:36:27.306436Z",
     "shell.execute_reply": "2025-05-13T03:36:27.305693Z",
     "shell.execute_reply.started": "2025-05-13T03:36:27.266935Z"
    },
    "trusted": true
   },
   "outputs": [
    {
     "name": "stdout",
     "output_type": "stream",
     "text": [
      "Model: \"model_1\"\n",
      "__________________________________________________________________________________________________\n",
      "Layer (type)                    Output Shape         Param #     Connected to                     \n",
      "==================================================================================================\n",
      "user_input (InputLayer)         [(None, 1)]          0                                            \n",
      "__________________________________________________________________________________________________\n",
      "item_input (InputLayer)         [(None, 1)]          0                                            \n",
      "__________________________________________________________________________________________________\n",
      "user_embedding (Embedding)      (None, 1, 50)        27645450    user_input[0][0]                 \n",
      "__________________________________________________________________________________________________\n",
      "item_embedding (Embedding)      (None, 1, 50)        190650      item_input[0][0]                 \n",
      "__________________________________________________________________________________________________\n",
      "flatten_4 (Flatten)             (None, 50)           0           user_embedding[0][0]             \n",
      "__________________________________________________________________________________________________\n",
      "flatten_5 (Flatten)             (None, 50)           0           item_embedding[0][0]             \n",
      "__________________________________________________________________________________________________\n",
      "concatenate (Concatenate)       (None, 100)          0           flatten_4[0][0]                  \n",
      "                                                                 flatten_5[0][0]                  \n",
      "__________________________________________________________________________________________________\n",
      "dense (Dense)                   (None, 128)          12928       concatenate[0][0]                \n",
      "__________________________________________________________________________________________________\n",
      "dropout (Dropout)               (None, 128)          0           dense[0][0]                      \n",
      "__________________________________________________________________________________________________\n",
      "dense_1 (Dense)                 (None, 64)           8256        dropout[0][0]                    \n",
      "__________________________________________________________________________________________________\n",
      "dense_2 (Dense)                 (None, 32)           2080        dense_1[0][0]                    \n",
      "__________________________________________________________________________________________________\n",
      "dense_3 (Dense)                 (None, 1)            33          dense_2[0][0]                    \n",
      "==================================================================================================\n",
      "Total params: 27,859,397\n",
      "Trainable params: 27,859,397\n",
      "Non-trainable params: 0\n",
      "__________________________________________________________________________________________________\n"
     ]
    }
   ],
   "source": [
    "import tensorflow.keras.backend as K\n",
    "\n",
    "def rmse(y_true, y_pred):\n",
    "    return K.sqrt(K.mean(K.square(y_true - y_pred)))\n",
    "    \n",
    "NCF_model.compile(optimizer='adam', loss='mse', metrics=[rmse])\n",
    "\n",
    "\n",
    "NCF_model.summary()\n"
   ]
  },
  {
   "cell_type": "code",
   "execution_count": 89,
   "metadata": {
    "execution": {
     "iopub.execute_input": "2025-05-13T03:37:32.088424Z",
     "iopub.status.busy": "2025-05-13T03:37:32.088153Z",
     "iopub.status.idle": "2025-05-13T04:12:25.789309Z",
     "shell.execute_reply": "2025-05-13T04:12:25.788599Z",
     "shell.execute_reply.started": "2025-05-13T03:37:32.088383Z"
    },
    "trusted": true
   },
   "outputs": [
    {
     "name": "stdout",
     "output_type": "stream",
     "text": [
      "Train on 542357 samples, validate on 135590 samples\n",
      "Epoch 1/10\n",
      "542357/542357 [==============================] - 350s 646us/sample - loss: 1.2615 - rmse: 1.1222 - val_loss: 1.7979 - val_rmse: 1.3400\n",
      "Epoch 2/10\n",
      "542357/542357 [==============================] - 348s 642us/sample - loss: 0.6450 - rmse: 0.8018 - val_loss: 1.8066 - val_rmse: 1.3433\n",
      "Epoch 3/10\n",
      "542357/542357 [==============================] - 348s 642us/sample - loss: 0.3785 - rmse: 0.6136 - val_loss: 1.7957 - val_rmse: 1.3393\n",
      "Epoch 4/10\n",
      "542357/542357 [==============================] - 348s 641us/sample - loss: 0.2814 - rmse: 0.5289 - val_loss: 1.8347 - val_rmse: 1.3539\n",
      "Epoch 5/10\n",
      "542357/542357 [==============================] - 349s 644us/sample - loss: 0.2190 - rmse: 0.4663 - val_loss: 1.8429 - val_rmse: 1.3569\n",
      "Epoch 6/10\n",
      "542357/542357 [==============================] - 350s 645us/sample - loss: 0.1872 - rmse: 0.4309 - val_loss: 1.8662 - val_rmse: 1.3655\n"
     ]
    }
   ],
   "source": [
    "from tensorflow.keras.callbacks import EarlyStopping\n",
    "early_stop = EarlyStopping(monitor='val_loss', patience=3, restore_best_weights=True)\n",
    "\n",
    "history = NCF_model.fit(\n",
    "    [X_train_u, X_train_i],\n",
    "    y_train,\n",
    "    validation_data=([X_test_u, X_test_i], y_test),\n",
    "    epochs=10,\n",
    "    batch_size=512,\n",
    "    callbacks=[early_stop],\n",
    "    verbose=1\n",
    ")\n"
   ]
  },
  {
   "cell_type": "code",
   "execution_count": 91,
   "metadata": {
    "execution": {
     "iopub.execute_input": "2025-05-13T04:15:31.876050Z",
     "iopub.status.busy": "2025-05-13T04:15:31.875776Z",
     "iopub.status.idle": "2025-05-13T04:15:32.257496Z",
     "shell.execute_reply": "2025-05-13T04:15:32.256491Z",
     "shell.execute_reply.started": "2025-05-13T04:15:31.876011Z"
    },
    "trusted": true
   },
   "outputs": [
    {
     "data": {
      "text/plain": [
       "<Figure size 864x360 with 0 Axes>"
      ]
     },
     "execution_count": 91,
     "metadata": {},
     "output_type": "execute_result"
    },
    {
     "data": {
      "text/plain": [
       "<matplotlib.axes._subplots.AxesSubplot at 0x7f601804c7b8>"
      ]
     },
     "execution_count": 91,
     "metadata": {},
     "output_type": "execute_result"
    },
    {
     "data": {
      "text/plain": [
       "[<matplotlib.lines.Line2D at 0x7f601804ccc0>]"
      ]
     },
     "execution_count": 91,
     "metadata": {},
     "output_type": "execute_result"
    },
    {
     "data": {
      "text/plain": [
       "[<matplotlib.lines.Line2D at 0x7f60107d82e8>]"
      ]
     },
     "execution_count": 91,
     "metadata": {},
     "output_type": "execute_result"
    },
    {
     "data": {
      "text/plain": [
       "Text(0.5, 1.0, 'Training vs Validation MSE')"
      ]
     },
     "execution_count": 91,
     "metadata": {},
     "output_type": "execute_result"
    },
    {
     "data": {
      "text/plain": [
       "Text(0.5, 0, 'Epoch')"
      ]
     },
     "execution_count": 91,
     "metadata": {},
     "output_type": "execute_result"
    },
    {
     "data": {
      "text/plain": [
       "Text(0, 0.5, 'MSE')"
      ]
     },
     "execution_count": 91,
     "metadata": {},
     "output_type": "execute_result"
    },
    {
     "data": {
      "text/plain": [
       "<matplotlib.legend.Legend at 0x7f60107bba20>"
      ]
     },
     "execution_count": 91,
     "metadata": {},
     "output_type": "execute_result"
    },
    {
     "data": {
      "text/plain": [
       "<matplotlib.axes._subplots.AxesSubplot at 0x7f60107d8710>"
      ]
     },
     "execution_count": 91,
     "metadata": {},
     "output_type": "execute_result"
    },
    {
     "data": {
      "text/plain": [
       "[<matplotlib.lines.Line2D at 0x7f60107dc320>]"
      ]
     },
     "execution_count": 91,
     "metadata": {},
     "output_type": "execute_result"
    },
    {
     "data": {
      "text/plain": [
       "[<matplotlib.lines.Line2D at 0x7f6010787630>]"
      ]
     },
     "execution_count": 91,
     "metadata": {},
     "output_type": "execute_result"
    },
    {
     "data": {
      "text/plain": [
       "Text(0.5, 1.0, 'Training vs Validation RMSE')"
      ]
     },
     "execution_count": 91,
     "metadata": {},
     "output_type": "execute_result"
    },
    {
     "data": {
      "text/plain": [
       "Text(0.5, 0, 'Epoch')"
      ]
     },
     "execution_count": 91,
     "metadata": {},
     "output_type": "execute_result"
    },
    {
     "data": {
      "text/plain": [
       "Text(0, 0.5, 'RMSE')"
      ]
     },
     "execution_count": 91,
     "metadata": {},
     "output_type": "execute_result"
    },
    {
     "data": {
      "text/plain": [
       "<matplotlib.legend.Legend at 0x7f60107f0dd8>"
      ]
     },
     "execution_count": 91,
     "metadata": {},
     "output_type": "execute_result"
    },
    {
     "data": {
      "image/png": "[encoded data removed]",
      "text/plain": [
       "<Figure size 864x360 with 2 Axes>"
      ]
     },
     "metadata": {
      "needs_background": "light"
     },
     "output_type": "display_data"
    }
   ],
   "source": [
    "import matplotlib.pyplot as plt\n",
    "\n",
    "# Plot Loss\n",
    "plt.figure(figsize=(12, 5))\n",
    "\n",
    "plt.subplot(1, 2, 1)\n",
    "plt.plot(history.history['loss'], label='Training MSE')\n",
    "plt.plot(history.history['val_loss'], label='Validation MSE')\n",
    "plt.title('Training vs Validation MSE')\n",
    "plt.xlabel('Epoch')\n",
    "plt.ylabel('MSE')\n",
    "plt.legend()\n",
    "plt.grid(True)\n",
    "\n",
    "# Plot RMSE\n",
    "plt.subplot(1, 2, 2)\n",
    "plt.plot(history.history['rmse'], label='Training RMSE')\n",
    "plt.plot(history.history['val_rmse'], label='Validation RMSE')\n",
    "plt.title('Training vs Validation RMSE')\n",
    "plt.xlabel('Epoch')\n",
    "plt.ylabel('RMSE')\n",
    "plt.legend()\n",
    "plt.grid(True)\n",
    "\n",
    "plt.tight_layout()\n",
    "plt.show()\n"
   ]
  },
  {
   "cell_type": "code",
   "execution_count": 94,
   "metadata": {
    "execution": {
     "iopub.execute_input": "2025-05-13T04:17:40.200055Z",
     "iopub.status.busy": "2025-05-13T04:17:40.199778Z",
     "iopub.status.idle": "2025-05-13T04:17:40.232933Z",
     "shell.execute_reply": "2025-05-13T04:17:40.232290Z",
     "shell.execute_reply.started": "2025-05-13T04:17:40.200015Z"
    },
    "trusted": true
   },
   "outputs": [
    {
     "name": "stdout",
     "output_type": "stream",
     "text": [
      "Predicted rating (0–5 scale): 4.871537\n"
     ]
    }
   ],
   "source": [
    "# Example: Predict rating for user ID 55 and item ID 1000\n",
    "user_id = 55\n",
    "item_id = 1000\n",
    "\n",
    "user_input = np.array([[user_id]])\n",
    "item_input = np.array([[item_id]])\n",
    "\n",
    "predicted_rating = NCF_model.predict([user_input, item_input], verbose=0)\n",
    "\n",
    "print(\"Predicted rating (0–5 scale):\", predicted_rating[0][0])\n"
   ]
  },
  {
   "cell_type": "markdown",
   "metadata": {},
   "source": [
    "# Hybrid Model (Combining ALS, KNN, and NCF)"
   ]
  },
  {
   "cell_type": "code",
   "execution_count": 100,
   "metadata": {
    "execution": {
     "iopub.execute_input": "2025-05-13T04:25:43.765041Z",
     "iopub.status.busy": "2025-05-13T04:25:43.764737Z",
     "iopub.status.idle": "2025-05-13T04:25:43.768931Z",
     "shell.execute_reply": "2025-05-13T04:25:43.767979Z",
     "shell.execute_reply.started": "2025-05-13T04:25:43.764998Z"
    },
    "trusted": true
   },
   "outputs": [],
   "source": [
    "user_id = 5\n",
    "item_id = 100"
   ]
  },
  {
   "cell_type": "code",
   "execution_count": 117,
   "metadata": {
    "execution": {
     "iopub.execute_input": "2025-05-13T04:44:11.989566Z",
     "iopub.status.busy": "2025-05-13T04:44:11.989251Z",
     "iopub.status.idle": "2025-05-13T04:44:12.025681Z",
     "shell.execute_reply": "2025-05-13T04:44:12.024867Z",
     "shell.execute_reply.started": "2025-05-13T04:44:11.989510Z"
    },
    "trusted": true
   },
   "outputs": [
    {
     "name": "stdout",
     "output_type": "stream",
     "text": [
      "Predicted rating (0–5 scale): 4.8252068\n"
     ]
    }
   ],
   "source": [
    "# ---------- NCF Prediction ----------\n",
    "user_input = np.array([[user_id]])\n",
    "item_input = np.array([[item_id]])\n",
    "ncf_pred = NCF_model.predict([user_input, item_input], verbose=0)\n",
    "print(\"Predicted rating (0–5 scale):\", predicted_rating[0][0])"
   ]
  },
  {
   "cell_type": "code",
   "execution_count": 114,
   "metadata": {
    "execution": {
     "iopub.execute_input": "2025-05-13T04:42:27.280467Z",
     "iopub.status.busy": "2025-05-13T04:42:27.280175Z",
     "iopub.status.idle": "2025-05-13T04:42:27.286219Z",
     "shell.execute_reply": "2025-05-13T04:42:27.285390Z",
     "shell.execute_reply.started": "2025-05-13T04:42:27.280426Z"
    },
    "trusted": true
   },
   "outputs": [
    {
     "name": "stdout",
     "output_type": "stream",
     "text": [
      "ALS Prediction: 0.0\n"
     ]
    }
   ],
   "source": [
    "user_id_encoded = 5 \n",
    "item_id_encoded = 100\n",
    "\n",
    "# Make sure the user and item indices are valid\n",
    "if user_id_encoded < Als_model.user_factors.shape[0] and item_id_encoded < Als_model.item_factors.shape[0]:\n",
    "    als_pred = Als_model.user_factors[user_id_encoded].dot(Als_model.item_factors[item_id_encoded])\n",
    "    print(\"ALS Prediction:\", round(als_pred, 4))\n",
    "else:\n",
    "    print(\"User or item index is out of bounds.\")\n"
   ]
  },
  {
   "cell_type": "code",
   "execution_count": 115,
   "metadata": {
    "execution": {
     "iopub.execute_input": "2025-05-13T04:42:32.296019Z",
     "iopub.status.busy": "2025-05-13T04:42:32.295720Z",
     "iopub.status.idle": "2025-05-13T04:42:53.092898Z",
     "shell.execute_reply": "2025-05-13T04:42:53.092205Z",
     "shell.execute_reply.started": "2025-05-13T04:42:32.295979Z"
    },
    "trusted": true
   },
   "outputs": [
    {
     "name": "stdout",
     "output_type": "stream",
     "text": [
      "ALS Prediction (scaled 0–5): 0.34\n"
     ]
    }
   ],
   "source": [
    "from sklearn.preprocessing import MinMaxScaler\n",
    "\n",
    "# Get all ALS scores (user × item matrix)\n",
    "als_all_scores = Als_model.user_factors @ Als_model.item_factors.T\n",
    "\n",
    "# Scale ALS scores to 0–5\n",
    "scaler = MinMaxScaler(feature_range=(0, 5))\n",
    "als_scaled_scores = scaler.fit_transform(als_all_scores)\n",
    "\n",
    "# Fetch the scaled ALS prediction\n",
    "als_pred_scaled = als_scaled_scores[user_id_encoded, item_id_encoded]\n",
    "print(\"ALS Prediction (scaled 0–5):\", round(als_pred_scaled, 2))\n"
   ]
  },
  {
   "cell_type": "code",
   "execution_count": 109,
   "metadata": {
    "execution": {
     "iopub.execute_input": "2025-05-13T04:38:49.247625Z",
     "iopub.status.busy": "2025-05-13T04:38:49.247323Z",
     "iopub.status.idle": "2025-05-13T04:38:49.251097Z",
     "shell.execute_reply": "2025-05-13T04:38:49.250229Z",
     "shell.execute_reply.started": "2025-05-13T04:38:49.247563Z"
    },
    "trusted": true
   },
   "outputs": [],
   "source": [
    "\n",
    "# Use Surprise model's test method (if needed, recreate trainset/testset)\n",
    "knn_pred = algo.predict(user_id, item_id).est\n"
   ]
  },
  {
   "cell_type": "code",
   "execution_count": 108,
   "metadata": {
    "execution": {
     "iopub.execute_input": "2025-05-13T04:38:43.285938Z",
     "iopub.status.busy": "2025-05-13T04:38:43.285618Z",
     "iopub.status.idle": "2025-05-13T04:38:43.290119Z",
     "shell.execute_reply": "2025-05-13T04:38:43.289457Z",
     "shell.execute_reply.started": "2025-05-13T04:38:43.285893Z"
    },
    "trusted": true
   },
   "outputs": [
    {
     "name": "stdout",
     "output_type": "stream",
     "text": [
      "KNN Prediction (0–5 scale): 4.05\n"
     ]
    }
   ],
   "source": [
    "print(\"KNN Prediction (0–5 scale):\", round(knn_pred, 2))\n"
   ]
  },
  {
   "cell_type": "code",
   "execution_count": 118,
   "metadata": {
    "execution": {
     "iopub.execute_input": "2025-05-13T04:44:16.246305Z",
     "iopub.status.busy": "2025-05-13T04:44:16.246037Z",
     "iopub.status.idle": "2025-05-13T04:44:16.250685Z",
     "shell.execute_reply": "2025-05-13T04:44:16.249829Z",
     "shell.execute_reply.started": "2025-05-13T04:44:16.246265Z"
    },
    "trusted": true
   },
   "outputs": [],
   "source": [
    "# Example weights (you can tune these)\n",
    "w_ncf = 0.5\n",
    "w_als = 0.2\n",
    "w_knn = 0.3\n",
    "\n",
    "# Compute weighted hybrid prediction\n",
    "hybrid_pred = (w_ncf * ncf_pred) + (w_als * als_pred_scaled) + (w_knn * knn_pred)"
   ]
  },
  {
   "cell_type": "code",
   "execution_count": 120,
   "metadata": {
    "execution": {
     "iopub.execute_input": "2025-05-13T04:44:49.178119Z",
     "iopub.status.busy": "2025-05-13T04:44:49.177841Z",
     "iopub.status.idle": "2025-05-13T04:44:49.182444Z",
     "shell.execute_reply": "2025-05-13T04:44:49.181604Z",
     "shell.execute_reply.started": "2025-05-13T04:44:49.178078Z"
    },
    "trusted": true
   },
   "outputs": [
    {
     "name": "stdout",
     "output_type": "stream",
     "text": [
      "Weighted Hybrid Prediction (0–5 scale): 3.7\n"
     ]
    }
   ],
   "source": [
    "print(\"Weighted Hybrid Prediction (0–5 scale):\", round(float(hybrid_pred), 2))\n"
   ]
  },
  {
   "cell_type": "code",
   "execution_count": 125,
   "metadata": {
    "execution": {
     "iopub.execute_input": "2025-05-13T05:02:32.359596Z",
     "iopub.status.busy": "2025-05-13T05:02:32.359295Z",
     "iopub.status.idle": "2025-05-13T05:02:39.319214Z",
     "shell.execute_reply": "2025-05-13T05:02:39.318613Z",
     "shell.execute_reply.started": "2025-05-13T05:02:32.359553Z"
    },
    "trusted": true
   },
   "outputs": [],
   "source": [
    "# --- NCF Predictions ---\n",
    "ncf_preds = NCF_model.predict([X_test_u, X_test_i], verbose=0).flatten()\n",
    "\n",
    "# --- ALS Predictions ---\n",
    "als_preds = []\n",
    "for u, i in zip(X_test_u, X_test_i):\n",
    "    if u < Als_model.user_factors.shape[0] and i < Als_model.item_factors.shape[0]:\n",
    "        pred = Als_model.user_factors[u].dot(Als_model.item_factors[i])\n",
    "    else:\n",
    "        pred = 0  # Or mean rating as fallback\n",
    "    als_preds.append(pred)\n",
    "als_preds = np.array(als_preds)\n",
    "\n",
    "# --- KNN Predictions ---\n",
    "knn_preds = []\n",
    "for u, i in zip(X_test_u, X_test_i):\n",
    "    knn_preds.append(algo.predict(int(u), int(i)).est)\n",
    "knn_preds = np.array(knn_preds)\n",
    "\n",
    "# --- Hybrid Predictions (simple average example) ---\n",
    "hybrid_preds = (ncf_preds + als_preds + knn_preds) / 3\n"
   ]
  },
  {
   "cell_type": "code",
   "execution_count": 127,
   "metadata": {
    "execution": {
     "iopub.execute_input": "2025-05-13T05:03:05.619249Z",
     "iopub.status.busy": "2025-05-13T05:03:05.618962Z",
     "iopub.status.idle": "2025-05-13T05:03:05.634937Z",
     "shell.execute_reply": "2025-05-13T05:03:05.633872Z",
     "shell.execute_reply.started": "2025-05-13T05:03:05.619197Z"
    },
    "trusted": true
   },
   "outputs": [
    {
     "name": "stdout",
     "output_type": "stream",
     "text": [
      "NCF RMSE: 1.7957, MAE: 1.0654\n",
      "ALS RMSE: 17.1529, MAE: 3.9204\n",
      "KNN RMSE: 1.8295, MAE: 1.0682\n",
      "Hybrid RMSE: 3.5277, MAE: 1.7533\n"
     ]
    }
   ],
   "source": [
    "from sklearn.metrics import mean_squared_error, mean_absolute_error\n",
    "\n",
    "def evaluate_model(name, y_true, y_pred):\n",
    "    rmse = mean_squared_error(y_true, y_pred)\n",
    "    mae = mean_absolute_error(y_true, y_pred)\n",
    "    print(f\"{name} RMSE: {rmse:.4f}, MAE: {mae:.4f}\")\n",
    "\n",
    "evaluate_model(\"NCF\", y_test, ncf_preds)\n",
    "evaluate_model(\"ALS\", y_test, als_preds)\n",
    "evaluate_model(\"KNN\", y_test, knn_preds)\n",
    "evaluate_model(\"Hybrid\", y_test, hybrid_preds)\n"
   ]
  }
 ],
 "metadata": {
  "kaggle": {
   "accelerator": "nvidiaTeslaT4",
   "dataSources": [
    {
     "datasetId": 475802,
     "sourceId": 891166,
     "sourceType": "datasetVersion"
    }
   ],
   "dockerImageVersionId": 29849,
   "isGpuEnabled": true,
   "isInternetEnabled": false,
   "language": "python",
   "sourceType": "notebook"
  },
  "kernelspec": {
   "display_name": "Python 3",
   "language": "python",
   "name": "python3"
  },
  "language_info": {
   "codemirror_mode": {
    "name": "ipython",
    "version": 3
   },
   "file_extension": ".py",
   "mimetype": "text/x-python",
   "name": "python",
   "nbconvert_exporter": "python",
   "pygments_lexer": "ipython3",
   "version": "3.6.6"
  }
 },
 "nbformat": 4,
 "nbformat_minor": 4
}
